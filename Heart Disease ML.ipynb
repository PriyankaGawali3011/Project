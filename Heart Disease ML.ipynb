{
 "cells": [
  {
   "cell_type": "markdown",
   "id": "abf59c47",
   "metadata": {},
   "source": [
    "# Heart Disease Dataset\n",
    "A simple records of Heart Patients monitored - Binary Classification Problem."
   ]
  },
  {
   "cell_type": "markdown",
   "id": "64fe5e5e",
   "metadata": {},
   "source": [
    "# About Dataset"
   ]
  },
  {
   "cell_type": "markdown",
   "id": "3ab4e4ed",
   "metadata": {},
   "source": [
    "##### This Data contains 14 attributes out of which 13 are independent while 1 is depend which is target feature."
   ]
  },
  {
   "cell_type": "markdown",
   "id": "6c9dbef3",
   "metadata": {},
   "source": [
    "Age : age in years. \n",
    "\n",
    "Sex : sex (1=male; 0=female).    \n",
    "\n",
    "Cp : chest pain type (0 = typical angina; 1 = atypical angina; 2 = non-anginal pain; 3: asymptomatic).\n",
    "\n",
    "Trestbps : resting blood pressure in mm Hg on admission to the hospital.    \n",
    "\n",
    "Chol : serum cholesterol in mg/dl.   \n",
    "\n",
    "fbs : fasting blood sugar > 120 mg/dl (1=true; 0=false). \n",
    "\n",
    "Restecg : resting electrocardiographic results ( 0=normal; 1=having ST-T wave abnormality; 2=probable or definite left ventricular hypertrophy).   \n",
    "\n",
    "Thalach : maximum heart rate achieved.    \n",
    "\n",
    "Exang : exercise-induced angina (1=yes; 0=no).    \n",
    "\n",
    "Oldpeak : ST depression induced by exercise relative to rest.    \n",
    "\n",
    "Slope : the slope of the peak exercise ST segment (0=upsloping; 1=flat; 2=downsloping).    \n",
    "\n",
    "Ca : number of major vessels (0–4) colored by fluorosopy.    \n",
    "\n",
    "Thal : thalassemia (1=normal; 2=fixed defect; 3=reversable defect).    \n",
    "\n",
    "Target : heart disease (0=no, 1=yes). \n",
    "\n",
    "   -- Value 0: < 50% chances of heart attack\n",
    "\n",
    "   -- Value 1: > 50% chances of heart attack"
   ]
  },
  {
   "cell_type": "markdown",
   "id": "9154b57d",
   "metadata": {},
   "source": [
    "##### This is a typical binary classification task."
   ]
  },
  {
   "cell_type": "markdown",
   "id": "ee0c2cce",
   "metadata": {},
   "source": [
    "# Acknowledgements :"
   ]
  },
  {
   "cell_type": "markdown",
   "id": "5880cdde",
   "metadata": {},
   "source": [
    "##### This dataset has been referred from Kaggle.\n",
    "https://www.kaggle.com/datasets/puspitasaha/heart-disease-prediction"
   ]
  },
  {
   "cell_type": "markdown",
   "id": "d9e9ccf2",
   "metadata": {},
   "source": [
    "# Objective :\n",
    "1. Understand the Dataset & cleanup (if required).\n",
    "2. Build classification models to predict whether or not the patients have Heart Disease.\n"
   ]
  },
  {
   "cell_type": "markdown",
   "id": "fd9ed914",
   "metadata": {},
   "source": [
    "# Load Essential Python Libraries"
   ]
  },
  {
   "cell_type": "code",
   "execution_count": 1,
   "id": "c570e398",
   "metadata": {},
   "outputs": [],
   "source": [
    "import pandas as pd                     # Data manipulation and processing\n",
    "import numpy as np                      # Linear algebra\n",
    "import matplotlib.pyplot as plt         # Data visualization\n",
    "%matplotlib inline\n",
    "import seaborn as sns                   # Data visualization\n",
    "import warnings                         # Hiding Warnings\n",
    "warnings.filterwarnings('ignore')"
   ]
  },
  {
   "cell_type": "markdown",
   "id": "4855587a",
   "metadata": {},
   "source": [
    "# Load Dataset"
   ]
  },
  {
   "cell_type": "code",
   "execution_count": 2,
   "id": "6ec98e02",
   "metadata": {},
   "outputs": [],
   "source": [
    "heart = pd.read_csv(\"E://priya//EXL-DATA ANALYYICS//Datasets//Heart2.csv\")"
   ]
  },
  {
   "cell_type": "markdown",
   "id": "c9c911f4",
   "metadata": {},
   "source": [
    "# Exploratory Data Analysis (EDA) "
   ]
  },
  {
   "cell_type": "code",
   "execution_count": 3,
   "id": "566e410c",
   "metadata": {},
   "outputs": [
    {
     "data": {
      "text/html": [
       "<div>\n",
       "<style scoped>\n",
       "    .dataframe tbody tr th:only-of-type {\n",
       "        vertical-align: middle;\n",
       "    }\n",
       "\n",
       "    .dataframe tbody tr th {\n",
       "        vertical-align: top;\n",
       "    }\n",
       "\n",
       "    .dataframe thead th {\n",
       "        text-align: right;\n",
       "    }\n",
       "</style>\n",
       "<table border=\"1\" class=\"dataframe\">\n",
       "  <thead>\n",
       "    <tr style=\"text-align: right;\">\n",
       "      <th></th>\n",
       "      <th>age</th>\n",
       "      <th>sex</th>\n",
       "      <th>cp</th>\n",
       "      <th>trestbps</th>\n",
       "      <th>chol</th>\n",
       "      <th>fbs</th>\n",
       "      <th>restecg</th>\n",
       "      <th>thalach</th>\n",
       "      <th>exang</th>\n",
       "      <th>oldpeak</th>\n",
       "      <th>slope</th>\n",
       "      <th>ca</th>\n",
       "      <th>thal</th>\n",
       "      <th>target</th>\n",
       "    </tr>\n",
       "  </thead>\n",
       "  <tbody>\n",
       "    <tr>\n",
       "      <th>0</th>\n",
       "      <td>52</td>\n",
       "      <td>1</td>\n",
       "      <td>0</td>\n",
       "      <td>125</td>\n",
       "      <td>212</td>\n",
       "      <td>0</td>\n",
       "      <td>1</td>\n",
       "      <td>168</td>\n",
       "      <td>0</td>\n",
       "      <td>1.0</td>\n",
       "      <td>2</td>\n",
       "      <td>2</td>\n",
       "      <td>3</td>\n",
       "      <td>0</td>\n",
       "    </tr>\n",
       "    <tr>\n",
       "      <th>1</th>\n",
       "      <td>53</td>\n",
       "      <td>1</td>\n",
       "      <td>0</td>\n",
       "      <td>140</td>\n",
       "      <td>203</td>\n",
       "      <td>1</td>\n",
       "      <td>0</td>\n",
       "      <td>155</td>\n",
       "      <td>1</td>\n",
       "      <td>3.1</td>\n",
       "      <td>0</td>\n",
       "      <td>0</td>\n",
       "      <td>3</td>\n",
       "      <td>0</td>\n",
       "    </tr>\n",
       "    <tr>\n",
       "      <th>2</th>\n",
       "      <td>70</td>\n",
       "      <td>1</td>\n",
       "      <td>0</td>\n",
       "      <td>145</td>\n",
       "      <td>174</td>\n",
       "      <td>0</td>\n",
       "      <td>1</td>\n",
       "      <td>125</td>\n",
       "      <td>1</td>\n",
       "      <td>2.6</td>\n",
       "      <td>0</td>\n",
       "      <td>0</td>\n",
       "      <td>3</td>\n",
       "      <td>0</td>\n",
       "    </tr>\n",
       "    <tr>\n",
       "      <th>3</th>\n",
       "      <td>61</td>\n",
       "      <td>1</td>\n",
       "      <td>0</td>\n",
       "      <td>148</td>\n",
       "      <td>203</td>\n",
       "      <td>0</td>\n",
       "      <td>1</td>\n",
       "      <td>161</td>\n",
       "      <td>0</td>\n",
       "      <td>0.0</td>\n",
       "      <td>2</td>\n",
       "      <td>1</td>\n",
       "      <td>3</td>\n",
       "      <td>0</td>\n",
       "    </tr>\n",
       "    <tr>\n",
       "      <th>4</th>\n",
       "      <td>62</td>\n",
       "      <td>0</td>\n",
       "      <td>0</td>\n",
       "      <td>138</td>\n",
       "      <td>294</td>\n",
       "      <td>1</td>\n",
       "      <td>1</td>\n",
       "      <td>106</td>\n",
       "      <td>0</td>\n",
       "      <td>1.9</td>\n",
       "      <td>1</td>\n",
       "      <td>3</td>\n",
       "      <td>2</td>\n",
       "      <td>0</td>\n",
       "    </tr>\n",
       "  </tbody>\n",
       "</table>\n",
       "</div>"
      ],
      "text/plain": [
       "   age  sex  cp  trestbps  chol  fbs  restecg  thalach  exang  oldpeak  slope  \\\n",
       "0   52    1   0       125   212    0        1      168      0      1.0      2   \n",
       "1   53    1   0       140   203    1        0      155      1      3.1      0   \n",
       "2   70    1   0       145   174    0        1      125      1      2.6      0   \n",
       "3   61    1   0       148   203    0        1      161      0      0.0      2   \n",
       "4   62    0   0       138   294    1        1      106      0      1.9      1   \n",
       "\n",
       "   ca  thal  target  \n",
       "0   2     3       0  \n",
       "1   0     3       0  \n",
       "2   0     3       0  \n",
       "3   1     3       0  \n",
       "4   3     2       0  "
      ]
     },
     "execution_count": 3,
     "metadata": {},
     "output_type": "execute_result"
    }
   ],
   "source": [
    "#Top 5 records from data\n",
    "heart.head()"
   ]
  },
  {
   "cell_type": "code",
   "execution_count": 4,
   "id": "6444c27e",
   "metadata": {},
   "outputs": [
    {
     "data": {
      "text/html": [
       "<div>\n",
       "<style scoped>\n",
       "    .dataframe tbody tr th:only-of-type {\n",
       "        vertical-align: middle;\n",
       "    }\n",
       "\n",
       "    .dataframe tbody tr th {\n",
       "        vertical-align: top;\n",
       "    }\n",
       "\n",
       "    .dataframe thead th {\n",
       "        text-align: right;\n",
       "    }\n",
       "</style>\n",
       "<table border=\"1\" class=\"dataframe\">\n",
       "  <thead>\n",
       "    <tr style=\"text-align: right;\">\n",
       "      <th></th>\n",
       "      <th>age</th>\n",
       "      <th>sex</th>\n",
       "      <th>cp</th>\n",
       "      <th>trestbps</th>\n",
       "      <th>chol</th>\n",
       "      <th>fbs</th>\n",
       "      <th>restecg</th>\n",
       "      <th>thalach</th>\n",
       "      <th>exang</th>\n",
       "      <th>oldpeak</th>\n",
       "      <th>slope</th>\n",
       "      <th>ca</th>\n",
       "      <th>thal</th>\n",
       "      <th>target</th>\n",
       "    </tr>\n",
       "  </thead>\n",
       "  <tbody>\n",
       "    <tr>\n",
       "      <th>1020</th>\n",
       "      <td>59</td>\n",
       "      <td>1</td>\n",
       "      <td>1</td>\n",
       "      <td>140</td>\n",
       "      <td>221</td>\n",
       "      <td>0</td>\n",
       "      <td>1</td>\n",
       "      <td>164</td>\n",
       "      <td>1</td>\n",
       "      <td>0.0</td>\n",
       "      <td>2</td>\n",
       "      <td>0</td>\n",
       "      <td>2</td>\n",
       "      <td>1</td>\n",
       "    </tr>\n",
       "    <tr>\n",
       "      <th>1021</th>\n",
       "      <td>60</td>\n",
       "      <td>1</td>\n",
       "      <td>0</td>\n",
       "      <td>125</td>\n",
       "      <td>258</td>\n",
       "      <td>0</td>\n",
       "      <td>0</td>\n",
       "      <td>141</td>\n",
       "      <td>1</td>\n",
       "      <td>2.8</td>\n",
       "      <td>1</td>\n",
       "      <td>1</td>\n",
       "      <td>3</td>\n",
       "      <td>0</td>\n",
       "    </tr>\n",
       "    <tr>\n",
       "      <th>1022</th>\n",
       "      <td>47</td>\n",
       "      <td>1</td>\n",
       "      <td>0</td>\n",
       "      <td>110</td>\n",
       "      <td>275</td>\n",
       "      <td>0</td>\n",
       "      <td>0</td>\n",
       "      <td>118</td>\n",
       "      <td>1</td>\n",
       "      <td>1.0</td>\n",
       "      <td>1</td>\n",
       "      <td>1</td>\n",
       "      <td>2</td>\n",
       "      <td>0</td>\n",
       "    </tr>\n",
       "    <tr>\n",
       "      <th>1023</th>\n",
       "      <td>50</td>\n",
       "      <td>0</td>\n",
       "      <td>0</td>\n",
       "      <td>110</td>\n",
       "      <td>254</td>\n",
       "      <td>0</td>\n",
       "      <td>0</td>\n",
       "      <td>159</td>\n",
       "      <td>0</td>\n",
       "      <td>0.0</td>\n",
       "      <td>2</td>\n",
       "      <td>0</td>\n",
       "      <td>2</td>\n",
       "      <td>1</td>\n",
       "    </tr>\n",
       "    <tr>\n",
       "      <th>1024</th>\n",
       "      <td>54</td>\n",
       "      <td>1</td>\n",
       "      <td>0</td>\n",
       "      <td>120</td>\n",
       "      <td>188</td>\n",
       "      <td>0</td>\n",
       "      <td>1</td>\n",
       "      <td>113</td>\n",
       "      <td>0</td>\n",
       "      <td>1.4</td>\n",
       "      <td>1</td>\n",
       "      <td>1</td>\n",
       "      <td>3</td>\n",
       "      <td>0</td>\n",
       "    </tr>\n",
       "  </tbody>\n",
       "</table>\n",
       "</div>"
      ],
      "text/plain": [
       "      age  sex  cp  trestbps  chol  fbs  restecg  thalach  exang  oldpeak  \\\n",
       "1020   59    1   1       140   221    0        1      164      1      0.0   \n",
       "1021   60    1   0       125   258    0        0      141      1      2.8   \n",
       "1022   47    1   0       110   275    0        0      118      1      1.0   \n",
       "1023   50    0   0       110   254    0        0      159      0      0.0   \n",
       "1024   54    1   0       120   188    0        1      113      0      1.4   \n",
       "\n",
       "      slope  ca  thal  target  \n",
       "1020      2   0     2       1  \n",
       "1021      1   1     3       0  \n",
       "1022      1   1     2       0  \n",
       "1023      2   0     2       1  \n",
       "1024      1   1     3       0  "
      ]
     },
     "execution_count": 4,
     "metadata": {},
     "output_type": "execute_result"
    }
   ],
   "source": [
    "#Last 5 records from data\n",
    "heart.tail()"
   ]
  },
  {
   "cell_type": "code",
   "execution_count": 5,
   "id": "f4b10a69",
   "metadata": {},
   "outputs": [
    {
     "data": {
      "text/html": [
       "<div>\n",
       "<style scoped>\n",
       "    .dataframe tbody tr th:only-of-type {\n",
       "        vertical-align: middle;\n",
       "    }\n",
       "\n",
       "    .dataframe tbody tr th {\n",
       "        vertical-align: top;\n",
       "    }\n",
       "\n",
       "    .dataframe thead th {\n",
       "        text-align: right;\n",
       "    }\n",
       "</style>\n",
       "<table border=\"1\" class=\"dataframe\">\n",
       "  <thead>\n",
       "    <tr style=\"text-align: right;\">\n",
       "      <th></th>\n",
       "      <th>age</th>\n",
       "      <th>sex</th>\n",
       "      <th>cp</th>\n",
       "      <th>trestbps</th>\n",
       "      <th>chol</th>\n",
       "      <th>fbs</th>\n",
       "      <th>restecg</th>\n",
       "      <th>thalach</th>\n",
       "      <th>exang</th>\n",
       "      <th>oldpeak</th>\n",
       "      <th>slope</th>\n",
       "      <th>ca</th>\n",
       "      <th>thal</th>\n",
       "      <th>target</th>\n",
       "    </tr>\n",
       "  </thead>\n",
       "  <tbody>\n",
       "    <tr>\n",
       "      <th>161</th>\n",
       "      <td>51</td>\n",
       "      <td>1</td>\n",
       "      <td>2</td>\n",
       "      <td>100</td>\n",
       "      <td>222</td>\n",
       "      <td>0</td>\n",
       "      <td>1</td>\n",
       "      <td>143</td>\n",
       "      <td>1</td>\n",
       "      <td>1.2</td>\n",
       "      <td>1</td>\n",
       "      <td>0</td>\n",
       "      <td>2</td>\n",
       "      <td>1</td>\n",
       "    </tr>\n",
       "    <tr>\n",
       "      <th>278</th>\n",
       "      <td>55</td>\n",
       "      <td>1</td>\n",
       "      <td>0</td>\n",
       "      <td>160</td>\n",
       "      <td>289</td>\n",
       "      <td>0</td>\n",
       "      <td>0</td>\n",
       "      <td>145</td>\n",
       "      <td>1</td>\n",
       "      <td>0.8</td>\n",
       "      <td>1</td>\n",
       "      <td>1</td>\n",
       "      <td>3</td>\n",
       "      <td>0</td>\n",
       "    </tr>\n",
       "    <tr>\n",
       "      <th>810</th>\n",
       "      <td>40</td>\n",
       "      <td>1</td>\n",
       "      <td>0</td>\n",
       "      <td>110</td>\n",
       "      <td>167</td>\n",
       "      <td>0</td>\n",
       "      <td>0</td>\n",
       "      <td>114</td>\n",
       "      <td>1</td>\n",
       "      <td>2.0</td>\n",
       "      <td>1</td>\n",
       "      <td>0</td>\n",
       "      <td>3</td>\n",
       "      <td>0</td>\n",
       "    </tr>\n",
       "    <tr>\n",
       "      <th>529</th>\n",
       "      <td>69</td>\n",
       "      <td>1</td>\n",
       "      <td>3</td>\n",
       "      <td>160</td>\n",
       "      <td>234</td>\n",
       "      <td>1</td>\n",
       "      <td>0</td>\n",
       "      <td>131</td>\n",
       "      <td>0</td>\n",
       "      <td>0.1</td>\n",
       "      <td>1</td>\n",
       "      <td>1</td>\n",
       "      <td>2</td>\n",
       "      <td>1</td>\n",
       "    </tr>\n",
       "    <tr>\n",
       "      <th>803</th>\n",
       "      <td>52</td>\n",
       "      <td>1</td>\n",
       "      <td>0</td>\n",
       "      <td>112</td>\n",
       "      <td>230</td>\n",
       "      <td>0</td>\n",
       "      <td>1</td>\n",
       "      <td>160</td>\n",
       "      <td>0</td>\n",
       "      <td>0.0</td>\n",
       "      <td>2</td>\n",
       "      <td>1</td>\n",
       "      <td>2</td>\n",
       "      <td>0</td>\n",
       "    </tr>\n",
       "  </tbody>\n",
       "</table>\n",
       "</div>"
      ],
      "text/plain": [
       "     age  sex  cp  trestbps  chol  fbs  restecg  thalach  exang  oldpeak  \\\n",
       "161   51    1   2       100   222    0        1      143      1      1.2   \n",
       "278   55    1   0       160   289    0        0      145      1      0.8   \n",
       "810   40    1   0       110   167    0        0      114      1      2.0   \n",
       "529   69    1   3       160   234    1        0      131      0      0.1   \n",
       "803   52    1   0       112   230    0        1      160      0      0.0   \n",
       "\n",
       "     slope  ca  thal  target  \n",
       "161      1   0     2       1  \n",
       "278      1   1     3       0  \n",
       "810      1   0     3       0  \n",
       "529      1   1     2       1  \n",
       "803      2   1     2       0  "
      ]
     },
     "execution_count": 5,
     "metadata": {},
     "output_type": "execute_result"
    }
   ],
   "source": [
    "#Random 5 sample records from data\n",
    "heart.sample(5)"
   ]
  },
  {
   "cell_type": "code",
   "execution_count": 6,
   "id": "f7145bab",
   "metadata": {},
   "outputs": [
    {
     "data": {
      "text/plain": [
       "(1025, 14)"
      ]
     },
     "execution_count": 6,
     "metadata": {},
     "output_type": "execute_result"
    }
   ],
   "source": [
    "heart.shape"
   ]
  },
  {
   "cell_type": "markdown",
   "id": "467c7b04",
   "metadata": {},
   "source": [
    "##### This data contains 14 columns and 1025 rows"
   ]
  },
  {
   "cell_type": "code",
   "execution_count": 7,
   "id": "23475b2d",
   "metadata": {},
   "outputs": [
    {
     "data": {
      "text/plain": [
       "14350"
      ]
     },
     "execution_count": 7,
     "metadata": {},
     "output_type": "execute_result"
    }
   ],
   "source": [
    "heart.size"
   ]
  },
  {
   "cell_type": "code",
   "execution_count": 8,
   "id": "9423f8a6",
   "metadata": {},
   "outputs": [
    {
     "data": {
      "text/plain": [
       "Index(['age', 'sex', 'cp', 'trestbps', 'chol', 'fbs', 'restecg', 'thalach',\n",
       "       'exang', 'oldpeak', 'slope', 'ca', 'thal', 'target'],\n",
       "      dtype='object')"
      ]
     },
     "execution_count": 8,
     "metadata": {},
     "output_type": "execute_result"
    }
   ],
   "source": [
    "heart.columns"
   ]
  },
  {
   "cell_type": "code",
   "execution_count": 9,
   "id": "9303955b",
   "metadata": {},
   "outputs": [
    {
     "name": "stdout",
     "output_type": "stream",
     "text": [
      "<class 'pandas.core.frame.DataFrame'>\n",
      "RangeIndex: 1025 entries, 0 to 1024\n",
      "Data columns (total 14 columns):\n",
      " #   Column    Non-Null Count  Dtype  \n",
      "---  ------    --------------  -----  \n",
      " 0   age       1025 non-null   int64  \n",
      " 1   sex       1025 non-null   int64  \n",
      " 2   cp        1025 non-null   int64  \n",
      " 3   trestbps  1025 non-null   int64  \n",
      " 4   chol      1025 non-null   int64  \n",
      " 5   fbs       1025 non-null   int64  \n",
      " 6   restecg   1025 non-null   int64  \n",
      " 7   thalach   1025 non-null   int64  \n",
      " 8   exang     1025 non-null   int64  \n",
      " 9   oldpeak   1025 non-null   float64\n",
      " 10  slope     1025 non-null   int64  \n",
      " 11  ca        1025 non-null   int64  \n",
      " 12  thal      1025 non-null   int64  \n",
      " 13  target    1025 non-null   int64  \n",
      "dtypes: float64(1), int64(13)\n",
      "memory usage: 112.2 KB\n"
     ]
    }
   ],
   "source": [
    "#Info of data (i.e.datatype & non-null value count of all columns)\n",
    "heart.info()"
   ]
  },
  {
   "cell_type": "markdown",
   "id": "16c7453d",
   "metadata": {},
   "source": [
    "##### This data contains 14 columns and all are numeric columns in that one of the column named oldpeak is float while other 13 are integer."
   ]
  },
  {
   "cell_type": "code",
   "execution_count": 10,
   "id": "9509e2b4",
   "metadata": {},
   "outputs": [
    {
     "data": {
      "text/html": [
       "<div>\n",
       "<style scoped>\n",
       "    .dataframe tbody tr th:only-of-type {\n",
       "        vertical-align: middle;\n",
       "    }\n",
       "\n",
       "    .dataframe tbody tr th {\n",
       "        vertical-align: top;\n",
       "    }\n",
       "\n",
       "    .dataframe thead th {\n",
       "        text-align: right;\n",
       "    }\n",
       "</style>\n",
       "<table border=\"1\" class=\"dataframe\">\n",
       "  <thead>\n",
       "    <tr style=\"text-align: right;\">\n",
       "      <th></th>\n",
       "      <th>age</th>\n",
       "      <th>sex</th>\n",
       "      <th>cp</th>\n",
       "      <th>trestbps</th>\n",
       "      <th>chol</th>\n",
       "      <th>fbs</th>\n",
       "      <th>restecg</th>\n",
       "      <th>thalach</th>\n",
       "      <th>exang</th>\n",
       "      <th>oldpeak</th>\n",
       "      <th>slope</th>\n",
       "      <th>ca</th>\n",
       "      <th>thal</th>\n",
       "      <th>target</th>\n",
       "    </tr>\n",
       "  </thead>\n",
       "  <tbody>\n",
       "    <tr>\n",
       "      <th>count</th>\n",
       "      <td>1025.000000</td>\n",
       "      <td>1025.000000</td>\n",
       "      <td>1025.000000</td>\n",
       "      <td>1025.000000</td>\n",
       "      <td>1025.00000</td>\n",
       "      <td>1025.000000</td>\n",
       "      <td>1025.000000</td>\n",
       "      <td>1025.000000</td>\n",
       "      <td>1025.000000</td>\n",
       "      <td>1025.000000</td>\n",
       "      <td>1025.000000</td>\n",
       "      <td>1025.000000</td>\n",
       "      <td>1025.000000</td>\n",
       "      <td>1025.000000</td>\n",
       "    </tr>\n",
       "    <tr>\n",
       "      <th>mean</th>\n",
       "      <td>54.434146</td>\n",
       "      <td>0.695610</td>\n",
       "      <td>0.942439</td>\n",
       "      <td>131.611707</td>\n",
       "      <td>246.00000</td>\n",
       "      <td>0.149268</td>\n",
       "      <td>0.529756</td>\n",
       "      <td>149.114146</td>\n",
       "      <td>0.336585</td>\n",
       "      <td>1.071512</td>\n",
       "      <td>1.385366</td>\n",
       "      <td>0.754146</td>\n",
       "      <td>2.323902</td>\n",
       "      <td>0.513171</td>\n",
       "    </tr>\n",
       "    <tr>\n",
       "      <th>std</th>\n",
       "      <td>9.072290</td>\n",
       "      <td>0.460373</td>\n",
       "      <td>1.029641</td>\n",
       "      <td>17.516718</td>\n",
       "      <td>51.59251</td>\n",
       "      <td>0.356527</td>\n",
       "      <td>0.527878</td>\n",
       "      <td>23.005724</td>\n",
       "      <td>0.472772</td>\n",
       "      <td>1.175053</td>\n",
       "      <td>0.617755</td>\n",
       "      <td>1.030798</td>\n",
       "      <td>0.620660</td>\n",
       "      <td>0.500070</td>\n",
       "    </tr>\n",
       "    <tr>\n",
       "      <th>min</th>\n",
       "      <td>29.000000</td>\n",
       "      <td>0.000000</td>\n",
       "      <td>0.000000</td>\n",
       "      <td>94.000000</td>\n",
       "      <td>126.00000</td>\n",
       "      <td>0.000000</td>\n",
       "      <td>0.000000</td>\n",
       "      <td>71.000000</td>\n",
       "      <td>0.000000</td>\n",
       "      <td>0.000000</td>\n",
       "      <td>0.000000</td>\n",
       "      <td>0.000000</td>\n",
       "      <td>0.000000</td>\n",
       "      <td>0.000000</td>\n",
       "    </tr>\n",
       "    <tr>\n",
       "      <th>25%</th>\n",
       "      <td>48.000000</td>\n",
       "      <td>0.000000</td>\n",
       "      <td>0.000000</td>\n",
       "      <td>120.000000</td>\n",
       "      <td>211.00000</td>\n",
       "      <td>0.000000</td>\n",
       "      <td>0.000000</td>\n",
       "      <td>132.000000</td>\n",
       "      <td>0.000000</td>\n",
       "      <td>0.000000</td>\n",
       "      <td>1.000000</td>\n",
       "      <td>0.000000</td>\n",
       "      <td>2.000000</td>\n",
       "      <td>0.000000</td>\n",
       "    </tr>\n",
       "    <tr>\n",
       "      <th>50%</th>\n",
       "      <td>56.000000</td>\n",
       "      <td>1.000000</td>\n",
       "      <td>1.000000</td>\n",
       "      <td>130.000000</td>\n",
       "      <td>240.00000</td>\n",
       "      <td>0.000000</td>\n",
       "      <td>1.000000</td>\n",
       "      <td>152.000000</td>\n",
       "      <td>0.000000</td>\n",
       "      <td>0.800000</td>\n",
       "      <td>1.000000</td>\n",
       "      <td>0.000000</td>\n",
       "      <td>2.000000</td>\n",
       "      <td>1.000000</td>\n",
       "    </tr>\n",
       "    <tr>\n",
       "      <th>75%</th>\n",
       "      <td>61.000000</td>\n",
       "      <td>1.000000</td>\n",
       "      <td>2.000000</td>\n",
       "      <td>140.000000</td>\n",
       "      <td>275.00000</td>\n",
       "      <td>0.000000</td>\n",
       "      <td>1.000000</td>\n",
       "      <td>166.000000</td>\n",
       "      <td>1.000000</td>\n",
       "      <td>1.800000</td>\n",
       "      <td>2.000000</td>\n",
       "      <td>1.000000</td>\n",
       "      <td>3.000000</td>\n",
       "      <td>1.000000</td>\n",
       "    </tr>\n",
       "    <tr>\n",
       "      <th>max</th>\n",
       "      <td>77.000000</td>\n",
       "      <td>1.000000</td>\n",
       "      <td>3.000000</td>\n",
       "      <td>200.000000</td>\n",
       "      <td>564.00000</td>\n",
       "      <td>1.000000</td>\n",
       "      <td>2.000000</td>\n",
       "      <td>202.000000</td>\n",
       "      <td>1.000000</td>\n",
       "      <td>6.200000</td>\n",
       "      <td>2.000000</td>\n",
       "      <td>4.000000</td>\n",
       "      <td>3.000000</td>\n",
       "      <td>1.000000</td>\n",
       "    </tr>\n",
       "  </tbody>\n",
       "</table>\n",
       "</div>"
      ],
      "text/plain": [
       "               age          sex           cp     trestbps        chol  \\\n",
       "count  1025.000000  1025.000000  1025.000000  1025.000000  1025.00000   \n",
       "mean     54.434146     0.695610     0.942439   131.611707   246.00000   \n",
       "std       9.072290     0.460373     1.029641    17.516718    51.59251   \n",
       "min      29.000000     0.000000     0.000000    94.000000   126.00000   \n",
       "25%      48.000000     0.000000     0.000000   120.000000   211.00000   \n",
       "50%      56.000000     1.000000     1.000000   130.000000   240.00000   \n",
       "75%      61.000000     1.000000     2.000000   140.000000   275.00000   \n",
       "max      77.000000     1.000000     3.000000   200.000000   564.00000   \n",
       "\n",
       "               fbs      restecg      thalach        exang      oldpeak  \\\n",
       "count  1025.000000  1025.000000  1025.000000  1025.000000  1025.000000   \n",
       "mean      0.149268     0.529756   149.114146     0.336585     1.071512   \n",
       "std       0.356527     0.527878    23.005724     0.472772     1.175053   \n",
       "min       0.000000     0.000000    71.000000     0.000000     0.000000   \n",
       "25%       0.000000     0.000000   132.000000     0.000000     0.000000   \n",
       "50%       0.000000     1.000000   152.000000     0.000000     0.800000   \n",
       "75%       0.000000     1.000000   166.000000     1.000000     1.800000   \n",
       "max       1.000000     2.000000   202.000000     1.000000     6.200000   \n",
       "\n",
       "             slope           ca         thal       target  \n",
       "count  1025.000000  1025.000000  1025.000000  1025.000000  \n",
       "mean      1.385366     0.754146     2.323902     0.513171  \n",
       "std       0.617755     1.030798     0.620660     0.500070  \n",
       "min       0.000000     0.000000     0.000000     0.000000  \n",
       "25%       1.000000     0.000000     2.000000     0.000000  \n",
       "50%       1.000000     0.000000     2.000000     1.000000  \n",
       "75%       2.000000     1.000000     3.000000     1.000000  \n",
       "max       2.000000     4.000000     3.000000     1.000000  "
      ]
     },
     "execution_count": 10,
     "metadata": {},
     "output_type": "execute_result"
    }
   ],
   "source": [
    "#Descriptive ststistic\n",
    "heart.describe()"
   ]
  },
  {
   "cell_type": "markdown",
   "id": "c5d3edbf",
   "metadata": {},
   "source": [
    "1.This is data of people whose age range is in between 29 and 77.\n",
    "\n",
    "2.Resting blood pressure range is in between 94 to 200.\n",
    "\n",
    "3.Cholesterol lies in between 126 and 564.\n",
    "\n",
    "4.Maximum heart rate achieved range is in between 71 to 202.\n",
    "\n",
    "5.Range of Oldpeak i.e. ST depression induced by exercise relative to rest is in between 0 to 6.2."
   ]
  },
  {
   "cell_type": "code",
   "execution_count": 11,
   "id": "330e2863",
   "metadata": {},
   "outputs": [
    {
     "data": {
      "text/plain": [
       "age          41\n",
       "sex           2\n",
       "cp            4\n",
       "trestbps     49\n",
       "chol        152\n",
       "fbs           2\n",
       "restecg       3\n",
       "thalach      91\n",
       "exang         2\n",
       "oldpeak      40\n",
       "slope         3\n",
       "ca            5\n",
       "thal          4\n",
       "target        2\n",
       "dtype: int64"
      ]
     },
     "execution_count": 11,
     "metadata": {},
     "output_type": "execute_result"
    }
   ],
   "source": [
    "heart.nunique()"
   ]
  },
  {
   "cell_type": "markdown",
   "id": "a1b36206",
   "metadata": {},
   "source": [
    "# Handling Missing values"
   ]
  },
  {
   "cell_type": "code",
   "execution_count": 12,
   "id": "deee5357",
   "metadata": {},
   "outputs": [
    {
     "data": {
      "text/plain": [
       "age         0\n",
       "sex         0\n",
       "cp          0\n",
       "trestbps    0\n",
       "chol        0\n",
       "fbs         0\n",
       "restecg     0\n",
       "thalach     0\n",
       "exang       0\n",
       "oldpeak     0\n",
       "slope       0\n",
       "ca          0\n",
       "thal        0\n",
       "target      0\n",
       "dtype: int64"
      ]
     },
     "execution_count": 12,
     "metadata": {},
     "output_type": "execute_result"
    }
   ],
   "source": [
    "heart.isnull().sum()"
   ]
  },
  {
   "cell_type": "markdown",
   "id": "56f670a2",
   "metadata": {},
   "source": [
    "##### As sum of null values  of each column is zero , data is free from missing  values."
   ]
  },
  {
   "cell_type": "markdown",
   "id": "d89dd489",
   "metadata": {},
   "source": [
    "# Checking duplicate values"
   ]
  },
  {
   "cell_type": "code",
   "execution_count": 13,
   "id": "c45be5b8",
   "metadata": {},
   "outputs": [
    {
     "data": {
      "text/plain": [
       "723"
      ]
     },
     "execution_count": 13,
     "metadata": {},
     "output_type": "execute_result"
    }
   ],
   "source": [
    "heart.duplicated().sum()"
   ]
  },
  {
   "cell_type": "markdown",
   "id": "93b25192",
   "metadata": {},
   "source": [
    "#### There are 723 duplicate values present in this data so, we have to drop those duplicate values."
   ]
  },
  {
   "cell_type": "code",
   "execution_count": 14,
   "id": "0e99355d",
   "metadata": {},
   "outputs": [],
   "source": [
    "heart.drop_duplicates(inplace=True)"
   ]
  },
  {
   "cell_type": "code",
   "execution_count": 15,
   "id": "9b8efc98",
   "metadata": {},
   "outputs": [
    {
     "data": {
      "text/plain": [
       "0"
      ]
     },
     "execution_count": 15,
     "metadata": {},
     "output_type": "execute_result"
    }
   ],
   "source": [
    "heart.duplicated().sum()"
   ]
  },
  {
   "cell_type": "code",
   "execution_count": 16,
   "id": "ca46876e",
   "metadata": {},
   "outputs": [
    {
     "data": {
      "text/plain": [
       "(302, 14)"
      ]
     },
     "execution_count": 16,
     "metadata": {},
     "output_type": "execute_result"
    }
   ],
   "source": [
    "#shape after dropping duplicate values\n",
    "heart.shape"
   ]
  },
  {
   "cell_type": "markdown",
   "id": "a2abc528",
   "metadata": {},
   "source": [
    "##### Before dropping this data contains 1025 rows and after dropping shape is reduced i.e now this data contains 302 rows and 14 columns."
   ]
  },
  {
   "cell_type": "markdown",
   "id": "8352225a",
   "metadata": {},
   "source": [
    "# Handling Outliers"
   ]
  },
  {
   "cell_type": "code",
   "execution_count": 17,
   "id": "f48f11b0",
   "metadata": {},
   "outputs": [
    {
     "data": {
      "text/plain": [
       "age             AxesSubplot(0.125,0.71587;0.168478x0.16413)\n",
       "sex          AxesSubplot(0.327174,0.71587;0.168478x0.16413)\n",
       "cp           AxesSubplot(0.529348,0.71587;0.168478x0.16413)\n",
       "trestbps     AxesSubplot(0.731522,0.71587;0.168478x0.16413)\n",
       "chol           AxesSubplot(0.125,0.518913;0.168478x0.16413)\n",
       "fbs         AxesSubplot(0.327174,0.518913;0.168478x0.16413)\n",
       "restecg     AxesSubplot(0.529348,0.518913;0.168478x0.16413)\n",
       "thalach     AxesSubplot(0.731522,0.518913;0.168478x0.16413)\n",
       "exang          AxesSubplot(0.125,0.321957;0.168478x0.16413)\n",
       "oldpeak     AxesSubplot(0.327174,0.321957;0.168478x0.16413)\n",
       "slope       AxesSubplot(0.529348,0.321957;0.168478x0.16413)\n",
       "ca          AxesSubplot(0.731522,0.321957;0.168478x0.16413)\n",
       "thal              AxesSubplot(0.125,0.125;0.168478x0.16413)\n",
       "target         AxesSubplot(0.327174,0.125;0.168478x0.16413)\n",
       "dtype: object"
      ]
     },
     "execution_count": 17,
     "metadata": {},
     "output_type": "execute_result"
    },
    {
     "data": {
      "image/png": "[encoded data removed]",
      "text/plain": [
       "<Figure size 1440x1440 with 16 Axes>"
      ]
     },
     "metadata": {
      "needs_background": "light"
     },
     "output_type": "display_data"
    }
   ],
   "source": [
    "#Box plot to see the distribution of all attributes\n",
    "heart.plot(kind = \"box\",subplots = True , layout = (4,4),sharex = False , sharey = False , figsize = (20,20))"
   ]
  },
  {
   "cell_type": "markdown",
   "id": "9e84a2e0",
   "metadata": {},
   "source": [
    "##### From this boxplot, we can see that there are some outliers present in some of columns like trestbps , chol , oldpeak , ca,thal and thalach.So,first we have to remove those outliers."
   ]
  },
  {
   "cell_type": "code",
   "execution_count": 18,
   "id": "a6a0f3e1",
   "metadata": {},
   "outputs": [],
   "source": [
    "heart = heart[heart.trestbps < 170]\n",
    "heart = heart[heart.chol < 360]\n",
    "heart = heart[heart.oldpeak < 4]\n",
    "heart = heart[heart.ca < 2.5]\n",
    "heart = heart[heart.thal > 1]\n",
    "heart = heart[heart.thalach > 90]"
   ]
  },
  {
   "cell_type": "code",
   "execution_count": 19,
   "id": "e5214a73",
   "metadata": {},
   "outputs": [
    {
     "data": {
      "text/plain": [
       "age             AxesSubplot(0.125,0.71587;0.168478x0.16413)\n",
       "sex          AxesSubplot(0.327174,0.71587;0.168478x0.16413)\n",
       "cp           AxesSubplot(0.529348,0.71587;0.168478x0.16413)\n",
       "trestbps     AxesSubplot(0.731522,0.71587;0.168478x0.16413)\n",
       "chol           AxesSubplot(0.125,0.518913;0.168478x0.16413)\n",
       "fbs         AxesSubplot(0.327174,0.518913;0.168478x0.16413)\n",
       "restecg     AxesSubplot(0.529348,0.518913;0.168478x0.16413)\n",
       "thalach     AxesSubplot(0.731522,0.518913;0.168478x0.16413)\n",
       "exang          AxesSubplot(0.125,0.321957;0.168478x0.16413)\n",
       "oldpeak     AxesSubplot(0.327174,0.321957;0.168478x0.16413)\n",
       "slope       AxesSubplot(0.529348,0.321957;0.168478x0.16413)\n",
       "ca          AxesSubplot(0.731522,0.321957;0.168478x0.16413)\n",
       "thal              AxesSubplot(0.125,0.125;0.168478x0.16413)\n",
       "target         AxesSubplot(0.327174,0.125;0.168478x0.16413)\n",
       "dtype: object"
      ]
     },
     "execution_count": 19,
     "metadata": {},
     "output_type": "execute_result"
    },
    {
     "data": {
      "image/png": "[encoded data removed]",
      "text/plain": [
       "<Figure size 1440x1440 with 16 Axes>"
      ]
     },
     "metadata": {
      "needs_background": "light"
     },
     "output_type": "display_data"
    }
   ],
   "source": [
    "heart.plot(kind = \"box\",subplots = True , layout = (4,4),sharex = False , sharey = False , figsize = (20,20))"
   ]
  },
  {
   "cell_type": "markdown",
   "id": "a0af06ab",
   "metadata": {},
   "source": [
    "##### Here we can see that some of the outliers are removed."
   ]
  },
  {
   "cell_type": "code",
   "execution_count": 20,
   "id": "cfc2055e",
   "metadata": {},
   "outputs": [
    {
     "data": {
      "text/plain": [
       "(239, 14)"
      ]
     },
     "execution_count": 20,
     "metadata": {},
     "output_type": "execute_result"
    }
   ],
   "source": [
    "#shape after removing outliers\n",
    "heart.shape"
   ]
  },
  {
   "cell_type": "markdown",
   "id": "df664762",
   "metadata": {},
   "source": [
    "###### Shape before outlier removal was 302 rows & 14 columns and shape after outlier removal is 239 rows & 14 columns."
   ]
  },
  {
   "cell_type": "markdown",
   "id": "43df2268",
   "metadata": {},
   "source": [
    "# Checking Multicollinearity"
   ]
  },
  {
   "cell_type": "code",
   "execution_count": 21,
   "id": "d030cb77",
   "metadata": {},
   "outputs": [
    {
     "data": {
      "text/html": [
       "<div>\n",
       "<style scoped>\n",
       "    .dataframe tbody tr th:only-of-type {\n",
       "        vertical-align: middle;\n",
       "    }\n",
       "\n",
       "    .dataframe tbody tr th {\n",
       "        vertical-align: top;\n",
       "    }\n",
       "\n",
       "    .dataframe thead th {\n",
       "        text-align: right;\n",
       "    }\n",
       "</style>\n",
       "<table border=\"1\" class=\"dataframe\">\n",
       "  <thead>\n",
       "    <tr style=\"text-align: right;\">\n",
       "      <th></th>\n",
       "      <th>age</th>\n",
       "      <th>sex</th>\n",
       "      <th>cp</th>\n",
       "      <th>trestbps</th>\n",
       "      <th>chol</th>\n",
       "      <th>fbs</th>\n",
       "      <th>restecg</th>\n",
       "      <th>thalach</th>\n",
       "      <th>exang</th>\n",
       "      <th>oldpeak</th>\n",
       "      <th>slope</th>\n",
       "      <th>ca</th>\n",
       "      <th>thal</th>\n",
       "      <th>target</th>\n",
       "    </tr>\n",
       "  </thead>\n",
       "  <tbody>\n",
       "    <tr>\n",
       "      <th>age</th>\n",
       "      <td>1.000000</td>\n",
       "      <td>-0.088966</td>\n",
       "      <td>-0.044374</td>\n",
       "      <td>0.251666</td>\n",
       "      <td>0.141381</td>\n",
       "      <td>0.120646</td>\n",
       "      <td>-0.044233</td>\n",
       "      <td>-0.427007</td>\n",
       "      <td>0.109050</td>\n",
       "      <td>0.184469</td>\n",
       "      <td>-0.157731</td>\n",
       "      <td>0.386048</td>\n",
       "      <td>0.114367</td>\n",
       "      <td>-0.206258</td>\n",
       "    </tr>\n",
       "    <tr>\n",
       "      <th>sex</th>\n",
       "      <td>-0.088966</td>\n",
       "      <td>1.000000</td>\n",
       "      <td>-0.095911</td>\n",
       "      <td>-0.013946</td>\n",
       "      <td>-0.118765</td>\n",
       "      <td>0.065406</td>\n",
       "      <td>-0.083106</td>\n",
       "      <td>-0.022885</td>\n",
       "      <td>0.175870</td>\n",
       "      <td>0.164924</td>\n",
       "      <td>-0.022390</td>\n",
       "      <td>0.093924</td>\n",
       "      <td>0.399656</td>\n",
       "      <td>-0.327976</td>\n",
       "    </tr>\n",
       "    <tr>\n",
       "      <th>cp</th>\n",
       "      <td>-0.044374</td>\n",
       "      <td>-0.095911</td>\n",
       "      <td>1.000000</td>\n",
       "      <td>0.125876</td>\n",
       "      <td>-0.061619</td>\n",
       "      <td>0.136287</td>\n",
       "      <td>0.090869</td>\n",
       "      <td>0.239191</td>\n",
       "      <td>-0.357992</td>\n",
       "      <td>-0.081211</td>\n",
       "      <td>0.093544</td>\n",
       "      <td>-0.183069</td>\n",
       "      <td>-0.307508</td>\n",
       "      <td>0.404736</td>\n",
       "    </tr>\n",
       "    <tr>\n",
       "      <th>trestbps</th>\n",
       "      <td>0.251666</td>\n",
       "      <td>-0.013946</td>\n",
       "      <td>0.125876</td>\n",
       "      <td>1.000000</td>\n",
       "      <td>0.069791</td>\n",
       "      <td>0.119762</td>\n",
       "      <td>-0.065215</td>\n",
       "      <td>0.033212</td>\n",
       "      <td>-0.033489</td>\n",
       "      <td>0.119047</td>\n",
       "      <td>-0.004363</td>\n",
       "      <td>0.044355</td>\n",
       "      <td>0.037199</td>\n",
       "      <td>-0.057216</td>\n",
       "    </tr>\n",
       "    <tr>\n",
       "      <th>chol</th>\n",
       "      <td>0.141381</td>\n",
       "      <td>-0.118765</td>\n",
       "      <td>-0.061619</td>\n",
       "      <td>0.069791</td>\n",
       "      <td>1.000000</td>\n",
       "      <td>0.001759</td>\n",
       "      <td>-0.125044</td>\n",
       "      <td>-0.007451</td>\n",
       "      <td>0.049147</td>\n",
       "      <td>-0.010269</td>\n",
       "      <td>0.043883</td>\n",
       "      <td>0.133371</td>\n",
       "      <td>0.006079</td>\n",
       "      <td>-0.086771</td>\n",
       "    </tr>\n",
       "    <tr>\n",
       "      <th>fbs</th>\n",
       "      <td>0.120646</td>\n",
       "      <td>0.065406</td>\n",
       "      <td>0.136287</td>\n",
       "      <td>0.119762</td>\n",
       "      <td>0.001759</td>\n",
       "      <td>1.000000</td>\n",
       "      <td>-0.062401</td>\n",
       "      <td>0.022759</td>\n",
       "      <td>-0.012339</td>\n",
       "      <td>-0.006783</td>\n",
       "      <td>-0.046139</td>\n",
       "      <td>0.076752</td>\n",
       "      <td>0.015426</td>\n",
       "      <td>0.033090</td>\n",
       "    </tr>\n",
       "    <tr>\n",
       "      <th>restecg</th>\n",
       "      <td>-0.044233</td>\n",
       "      <td>-0.083106</td>\n",
       "      <td>0.090869</td>\n",
       "      <td>-0.065215</td>\n",
       "      <td>-0.125044</td>\n",
       "      <td>-0.062401</td>\n",
       "      <td>1.000000</td>\n",
       "      <td>0.069531</td>\n",
       "      <td>-0.102335</td>\n",
       "      <td>-0.071508</td>\n",
       "      <td>0.124461</td>\n",
       "      <td>-0.047993</td>\n",
       "      <td>0.031081</td>\n",
       "      <td>0.133235</td>\n",
       "    </tr>\n",
       "    <tr>\n",
       "      <th>thalach</th>\n",
       "      <td>-0.427007</td>\n",
       "      <td>-0.022885</td>\n",
       "      <td>0.239191</td>\n",
       "      <td>0.033212</td>\n",
       "      <td>-0.007451</td>\n",
       "      <td>0.022759</td>\n",
       "      <td>0.069531</td>\n",
       "      <td>1.000000</td>\n",
       "      <td>-0.412714</td>\n",
       "      <td>-0.337013</td>\n",
       "      <td>0.373534</td>\n",
       "      <td>-0.229941</td>\n",
       "      <td>-0.299863</td>\n",
       "      <td>0.388276</td>\n",
       "    </tr>\n",
       "    <tr>\n",
       "      <th>exang</th>\n",
       "      <td>0.109050</td>\n",
       "      <td>0.175870</td>\n",
       "      <td>-0.357992</td>\n",
       "      <td>-0.033489</td>\n",
       "      <td>0.049147</td>\n",
       "      <td>-0.012339</td>\n",
       "      <td>-0.102335</td>\n",
       "      <td>-0.412714</td>\n",
       "      <td>1.000000</td>\n",
       "      <td>0.325166</td>\n",
       "      <td>-0.255226</td>\n",
       "      <td>0.186199</td>\n",
       "      <td>0.361967</td>\n",
       "      <td>-0.410732</td>\n",
       "    </tr>\n",
       "    <tr>\n",
       "      <th>oldpeak</th>\n",
       "      <td>0.184469</td>\n",
       "      <td>0.164924</td>\n",
       "      <td>-0.081211</td>\n",
       "      <td>0.119047</td>\n",
       "      <td>-0.010269</td>\n",
       "      <td>-0.006783</td>\n",
       "      <td>-0.071508</td>\n",
       "      <td>-0.337013</td>\n",
       "      <td>0.325166</td>\n",
       "      <td>1.000000</td>\n",
       "      <td>-0.545557</td>\n",
       "      <td>0.273056</td>\n",
       "      <td>0.308781</td>\n",
       "      <td>-0.434643</td>\n",
       "    </tr>\n",
       "    <tr>\n",
       "      <th>slope</th>\n",
       "      <td>-0.157731</td>\n",
       "      <td>-0.022390</td>\n",
       "      <td>0.093544</td>\n",
       "      <td>-0.004363</td>\n",
       "      <td>0.043883</td>\n",
       "      <td>-0.046139</td>\n",
       "      <td>0.124461</td>\n",
       "      <td>0.373534</td>\n",
       "      <td>-0.255226</td>\n",
       "      <td>-0.545557</td>\n",
       "      <td>1.000000</td>\n",
       "      <td>-0.072112</td>\n",
       "      <td>-0.212797</td>\n",
       "      <td>0.313726</td>\n",
       "    </tr>\n",
       "    <tr>\n",
       "      <th>ca</th>\n",
       "      <td>0.386048</td>\n",
       "      <td>0.093924</td>\n",
       "      <td>-0.183069</td>\n",
       "      <td>0.044355</td>\n",
       "      <td>0.133371</td>\n",
       "      <td>0.076752</td>\n",
       "      <td>-0.047993</td>\n",
       "      <td>-0.229941</td>\n",
       "      <td>0.186199</td>\n",
       "      <td>0.273056</td>\n",
       "      <td>-0.072112</td>\n",
       "      <td>1.000000</td>\n",
       "      <td>0.220811</td>\n",
       "      <td>-0.441352</td>\n",
       "    </tr>\n",
       "    <tr>\n",
       "      <th>thal</th>\n",
       "      <td>0.114367</td>\n",
       "      <td>0.399656</td>\n",
       "      <td>-0.307508</td>\n",
       "      <td>0.037199</td>\n",
       "      <td>0.006079</td>\n",
       "      <td>0.015426</td>\n",
       "      <td>0.031081</td>\n",
       "      <td>-0.299863</td>\n",
       "      <td>0.361967</td>\n",
       "      <td>0.308781</td>\n",
       "      <td>-0.212797</td>\n",
       "      <td>0.220811</td>\n",
       "      <td>1.000000</td>\n",
       "      <td>-0.569374</td>\n",
       "    </tr>\n",
       "    <tr>\n",
       "      <th>target</th>\n",
       "      <td>-0.206258</td>\n",
       "      <td>-0.327976</td>\n",
       "      <td>0.404736</td>\n",
       "      <td>-0.057216</td>\n",
       "      <td>-0.086771</td>\n",
       "      <td>0.033090</td>\n",
       "      <td>0.133235</td>\n",
       "      <td>0.388276</td>\n",
       "      <td>-0.410732</td>\n",
       "      <td>-0.434643</td>\n",
       "      <td>0.313726</td>\n",
       "      <td>-0.441352</td>\n",
       "      <td>-0.569374</td>\n",
       "      <td>1.000000</td>\n",
       "    </tr>\n",
       "  </tbody>\n",
       "</table>\n",
       "</div>"
      ],
      "text/plain": [
       "               age       sex        cp  trestbps      chol       fbs  \\\n",
       "age       1.000000 -0.088966 -0.044374  0.251666  0.141381  0.120646   \n",
       "sex      -0.088966  1.000000 -0.095911 -0.013946 -0.118765  0.065406   \n",
       "cp       -0.044374 -0.095911  1.000000  0.125876 -0.061619  0.136287   \n",
       "trestbps  0.251666 -0.013946  0.125876  1.000000  0.069791  0.119762   \n",
       "chol      0.141381 -0.118765 -0.061619  0.069791  1.000000  0.001759   \n",
       "fbs       0.120646  0.065406  0.136287  0.119762  0.001759  1.000000   \n",
       "restecg  -0.044233 -0.083106  0.090869 -0.065215 -0.125044 -0.062401   \n",
       "thalach  -0.427007 -0.022885  0.239191  0.033212 -0.007451  0.022759   \n",
       "exang     0.109050  0.175870 -0.357992 -0.033489  0.049147 -0.012339   \n",
       "oldpeak   0.184469  0.164924 -0.081211  0.119047 -0.010269 -0.006783   \n",
       "slope    -0.157731 -0.022390  0.093544 -0.004363  0.043883 -0.046139   \n",
       "ca        0.386048  0.093924 -0.183069  0.044355  0.133371  0.076752   \n",
       "thal      0.114367  0.399656 -0.307508  0.037199  0.006079  0.015426   \n",
       "target   -0.206258 -0.327976  0.404736 -0.057216 -0.086771  0.033090   \n",
       "\n",
       "           restecg   thalach     exang   oldpeak     slope        ca  \\\n",
       "age      -0.044233 -0.427007  0.109050  0.184469 -0.157731  0.386048   \n",
       "sex      -0.083106 -0.022885  0.175870  0.164924 -0.022390  0.093924   \n",
       "cp        0.090869  0.239191 -0.357992 -0.081211  0.093544 -0.183069   \n",
       "trestbps -0.065215  0.033212 -0.033489  0.119047 -0.004363  0.044355   \n",
       "chol     -0.125044 -0.007451  0.049147 -0.010269  0.043883  0.133371   \n",
       "fbs      -0.062401  0.022759 -0.012339 -0.006783 -0.046139  0.076752   \n",
       "restecg   1.000000  0.069531 -0.102335 -0.071508  0.124461 -0.047993   \n",
       "thalach   0.069531  1.000000 -0.412714 -0.337013  0.373534 -0.229941   \n",
       "exang    -0.102335 -0.412714  1.000000  0.325166 -0.255226  0.186199   \n",
       "oldpeak  -0.071508 -0.337013  0.325166  1.000000 -0.545557  0.273056   \n",
       "slope     0.124461  0.373534 -0.255226 -0.545557  1.000000 -0.072112   \n",
       "ca       -0.047993 -0.229941  0.186199  0.273056 -0.072112  1.000000   \n",
       "thal      0.031081 -0.299863  0.361967  0.308781 -0.212797  0.220811   \n",
       "target    0.133235  0.388276 -0.410732 -0.434643  0.313726 -0.441352   \n",
       "\n",
       "              thal    target  \n",
       "age       0.114367 -0.206258  \n",
       "sex       0.399656 -0.327976  \n",
       "cp       -0.307508  0.404736  \n",
       "trestbps  0.037199 -0.057216  \n",
       "chol      0.006079 -0.086771  \n",
       "fbs       0.015426  0.033090  \n",
       "restecg   0.031081  0.133235  \n",
       "thalach  -0.299863  0.388276  \n",
       "exang     0.361967 -0.410732  \n",
       "oldpeak   0.308781 -0.434643  \n",
       "slope    -0.212797  0.313726  \n",
       "ca        0.220811 -0.441352  \n",
       "thal      1.000000 -0.569374  \n",
       "target   -0.569374  1.000000  "
      ]
     },
     "execution_count": 21,
     "metadata": {},
     "output_type": "execute_result"
    }
   ],
   "source": [
    "#Checking the Multicollinearity:\n",
    "heart.corr()"
   ]
  },
  {
   "cell_type": "code",
   "execution_count": 22,
   "id": "33a0f66f",
   "metadata": {},
   "outputs": [
    {
     "data": {
      "image/png": "[encoded data removed]",
      "text/plain": [
       "<Figure size 1080x720 with 2 Axes>"
      ]
     },
     "metadata": {
      "needs_background": "light"
     },
     "output_type": "display_data"
    }
   ],
   "source": [
    "plt.figure(figsize=(15,10))\n",
    "sns.heatmap(heart.corr(),annot = True, linewidth = 2)\n",
    "plt.show()"
   ]
  },
  {
   "cell_type": "markdown",
   "id": "c796501c",
   "metadata": {},
   "source": [
    "#### Values in a correlation matrix stand between -1 and +1, where slightly positive correlation features can be something like 0.5, and strong correlation is > 0.8. Here, we don't have those kind of correlation, so we don't need to perform a PCA. "
   ]
  },
  {
   "cell_type": "markdown",
   "id": "8aac0730",
   "metadata": {},
   "source": [
    "# Data Visualization"
   ]
  },
  {
   "cell_type": "code",
   "execution_count": 23,
   "id": "2353f75a",
   "metadata": {},
   "outputs": [
    {
     "data": {
      "text/plain": [
       "1    143\n",
       "0     96\n",
       "Name: target, dtype: int64"
      ]
     },
     "execution_count": 23,
     "metadata": {},
     "output_type": "execute_result"
    }
   ],
   "source": [
    "heart[\"target\"].value_counts()"
   ]
  },
  {
   "cell_type": "code",
   "execution_count": 24,
   "id": "7af1c8e2",
   "metadata": {},
   "outputs": [
    {
     "data": {
      "image/png": "[encoded data removed]",
      "text/plain": [
       "<Figure size 576x720 with 1 Axes>"
      ]
     },
     "metadata": {},
     "output_type": "display_data"
    }
   ],
   "source": [
    "plt.figure(figsize = (8,10))\n",
    "plt.pie(heart[\"target\"].value_counts(),labels=[\"Heart disease\",\"Not Heart disease\"],wedgeprops = {\"edgecolor\":\"black\"},autopct='%.2f%%')\n",
    "plt.title(\"Surveyed data of people having chances/no chances of heart disease \" )\n",
    "plt.show()"
   ]
  },
  {
   "cell_type": "markdown",
   "id": "c7597543",
   "metadata": {},
   "source": [
    "##### Near about 60% people in this data have chances of heart disease and 40% have not heart disease."
   ]
  },
  {
   "cell_type": "code",
   "execution_count": 25,
   "id": "913c4962",
   "metadata": {},
   "outputs": [
    {
     "data": {
      "text/plain": [
       "1    159\n",
       "0     80\n",
       "Name: sex, dtype: int64"
      ]
     },
     "execution_count": 25,
     "metadata": {},
     "output_type": "execute_result"
    }
   ],
   "source": [
    "heart[\"sex\"].value_counts()"
   ]
  },
  {
   "cell_type": "code",
   "execution_count": 26,
   "id": "e3075c1b",
   "metadata": {},
   "outputs": [
    {
     "data": {
      "image/png": "[encoded data removed]",
      "text/plain": [
       "<Figure size 576x720 with 1 Axes>"
      ]
     },
     "metadata": {},
     "output_type": "display_data"
    }
   ],
   "source": [
    "plt.figure(figsize = (8,10))\n",
    "plt.pie(heart[\"sex\"].value_counts(),labels=[\"Male\",\"Female\"],wedgeprops = {\"edgecolor\":\"black\"},autopct='%.2f%%')\n",
    "plt.title(\"Percentage of male and female in data\" )\n",
    "plt.show()"
   ]
  },
  {
   "cell_type": "markdown",
   "id": "e324d84a",
   "metadata": {},
   "source": [
    "##### This data contains nearly 67% of males data and 33% female's data."
   ]
  },
  {
   "cell_type": "code",
   "execution_count": 27,
   "id": "6fbfdfb7",
   "metadata": {},
   "outputs": [
    {
     "data": {
      "text/plain": [
       "<AxesSubplot:xlabel='thal', ylabel='count'>"
      ]
     },
     "execution_count": 27,
     "metadata": {},
     "output_type": "execute_result"
    },
    {
     "data": {
      "image/png": "[encoded data removed]",
      "text/plain": [
       "<Figure size 1440x1440 with 9 Axes>"
      ]
     },
     "metadata": {
      "needs_background": "light"
     },
     "output_type": "display_data"
    }
   ],
   "source": [
    "fig,ax = plt.subplots(3,3,figsize=(20,20))\n",
    "sns.countplot(\"target\",data=heart,ax=ax[0][0])\n",
    "sns.countplot(\"sex\",data=heart,ax=ax[0][1])\n",
    "sns.countplot(\"cp\",data=heart,ax=ax[0][2])\n",
    "sns.countplot(\"fbs\",data=heart,ax=ax[1][0])\n",
    "sns.countplot(\"restecg\",data=heart,ax=ax[1][1])\n",
    "sns.countplot(\"exang\",data=heart,ax=ax[1][2])\n",
    "sns.countplot(\"slope\",data=heart,ax=ax[2][0])\n",
    "sns.countplot(\"ca\",data=heart,ax=ax[2][1])\n",
    "sns.countplot(\"thal\",data=heart,ax=ax[2][2])"
   ]
  },
  {
   "cell_type": "markdown",
   "id": "2998d864",
   "metadata": {},
   "source": [
    "1.Maximum peoples are with heart disease.\n",
    "\n",
    "2.Count of males is high than female count.\n",
    "\n",
    "3.Maximum peoples in this data have chest pain type 0 = typical angina and mininum are with chest pain type 3: asymptomatic.\n",
    " \n",
    "4.Maximum people in this data have fasting blood sugar < 120 mg/dl\n",
    "\n",
    "5.In this data ,people with resting electrocardiographic result 1=having ST-T wave abnormality are maximum(>120),people with 2=probable or definite left ventricular hypertrophy are minimum(near about 5) and people with 0=normal are near about 110.\n",
    "\n",
    "6.There are maximum people with exercise -induced angina than people without.\n",
    "\n",
    "7.Many peoples in this data have slope of the peak exercise ST segment 2=downsloping. (0=upsloping; 1=flat)\n",
    "\n",
    "8.More than 140 people are with 0 number of major vessels colored by fluorosopy.\n",
    "\n",
    "9.More than 140 people i.e near about 150 people having fixed defect(2) thalassamia and near about 90 have reversable defect(3)thalassemia."
   ]
  },
  {
   "cell_type": "code",
   "execution_count": 28,
   "id": "8a6ead39",
   "metadata": {},
   "outputs": [
    {
     "data": {
      "image/png": "[encoded data removed]",
      "text/plain": [
       "<Figure size 432x288 with 1 Axes>"
      ]
     },
     "metadata": {
      "needs_background": "light"
     },
     "output_type": "display_data"
    }
   ],
   "source": [
    "sns.distplot(heart[\"age\"])\n",
    "plt.show()"
   ]
  },
  {
   "cell_type": "markdown",
   "id": "215f0c10",
   "metadata": {},
   "source": [
    "##### We see there are no outliers present in age variable.And most of the people are of age in between 50-65."
   ]
  },
  {
   "cell_type": "code",
   "execution_count": 29,
   "id": "4587b170",
   "metadata": {},
   "outputs": [
    {
     "data": {
      "image/png": "[encoded data removed]",
      "text/plain": [
       "<Figure size 432x288 with 1 Axes>"
      ]
     },
     "metadata": {
      "needs_background": "light"
     },
     "output_type": "display_data"
    }
   ],
   "source": [
    "sns.distplot(heart[\"trestbps\"])\n",
    "plt.show()"
   ]
  },
  {
   "cell_type": "markdown",
   "id": "ecb50a60",
   "metadata": {},
   "source": [
    "##### We see that distribution of this feature is fairly normal."
   ]
  },
  {
   "cell_type": "code",
   "execution_count": 30,
   "id": "3b7476b5",
   "metadata": {},
   "outputs": [
    {
     "data": {
      "image/png": "[encoded data removed]",
      "text/plain": [
       "<Figure size 432x288 with 1 Axes>"
      ]
     },
     "metadata": {
      "needs_background": "light"
     },
     "output_type": "display_data"
    }
   ],
   "source": [
    "sns.distplot(heart[\"chol\"])\n",
    "plt.show()"
   ]
  },
  {
   "cell_type": "markdown",
   "id": "44d8047f",
   "metadata": {},
   "source": [
    "##### We see that the distribution is some how similar to resting bps i.e fairly normal."
   ]
  },
  {
   "cell_type": "code",
   "execution_count": 31,
   "id": "2b457c22",
   "metadata": {},
   "outputs": [
    {
     "data": {
      "image/png": "[encoded data removed]",
      "text/plain": [
       "<Figure size 432x288 with 1 Axes>"
      ]
     },
     "metadata": {
      "needs_background": "light"
     },
     "output_type": "display_data"
    }
   ],
   "source": [
    "sns.distplot(heart[\"thalach\"])\n",
    "plt.show()"
   ]
  },
  {
   "cell_type": "markdown",
   "id": "f5706d07",
   "metadata": {},
   "source": [
    "##### It can be inferred that most of the data in the distribution of thalach(maximum heart rate) is towards right which means it is not normally distributed it is left skewed."
   ]
  },
  {
   "cell_type": "code",
   "execution_count": 32,
   "id": "d7cf7309",
   "metadata": {},
   "outputs": [
    {
     "data": {
      "image/png": "[encoded data removed]",
      "text/plain": [
       "<Figure size 432x288 with 1 Axes>"
      ]
     },
     "metadata": {
      "needs_background": "light"
     },
     "output_type": "display_data"
    }
   ],
   "source": [
    "sns.distplot(heart[\"oldpeak\"])\n",
    "plt.show()"
   ]
  },
  {
   "cell_type": "markdown",
   "id": "5a4135fd",
   "metadata": {},
   "source": [
    "##### We see that most of the data in the distribution of oldpeak(ST depression induced by exercise relative to rest) is towards left means data is right skewed."
   ]
  },
  {
   "cell_type": "code",
   "execution_count": 33,
   "id": "c994d294",
   "metadata": {},
   "outputs": [
    {
     "data": {
      "image/png": "[encoded data removed]",
      "text/plain": [
       "<Figure size 288x288 with 1 Axes>"
      ]
     },
     "metadata": {
      "needs_background": "light"
     },
     "output_type": "display_data"
    }
   ],
   "source": [
    "sex=pd.crosstab(heart[\"sex\"],heart[\"target\"])\n",
    "sex.div(sex.sum(1).astype(float), axis=0).plot(kind=\"bar\",stacked=True,figsize=(4,4))\n",
    "plt.show()"
   ]
  },
  {
   "cell_type": "markdown",
   "id": "d03623b9",
   "metadata": {},
   "source": [
    "##### The proportion of female with heart disease is high while the proportion is higher of male without heart disease."
   ]
  },
  {
   "cell_type": "code",
   "execution_count": 34,
   "id": "4244cbc1",
   "metadata": {},
   "outputs": [
    {
     "data": {
      "text/plain": [
       "<AxesSubplot:xlabel='sex', ylabel='count'>"
      ]
     },
     "execution_count": 34,
     "metadata": {},
     "output_type": "execute_result"
    },
    {
     "data": {
      "image/png": "[encoded data removed]",
      "text/plain": [
       "<Figure size 720x432 with 1 Axes>"
      ]
     },
     "metadata": {
      "needs_background": "light"
     },
     "output_type": "display_data"
    }
   ],
   "source": [
    "plt.figure(figsize=(10,6))  \n",
    "sns.countplot(x=\"sex\", hue=\"cp\", data=heart)"
   ]
  },
  {
   "cell_type": "markdown",
   "id": "f97ac7ed",
   "metadata": {},
   "source": [
    "##### It can be inferred that proportion for both male and female is low having chest pain type 3(asyptomatic).Most of the males have chest pain type 0 (typical angina).The proportion of females with chest pain type 0(typical angina)& type 2(non-anginal pain) are nearly same."
   ]
  },
  {
   "cell_type": "code",
   "execution_count": 35,
   "id": "52706153",
   "metadata": {
    "scrolled": false
   },
   "outputs": [
    {
     "data": {
      "text/plain": [
       "<AxesSubplot:xlabel='sex', ylabel='count'>"
      ]
     },
     "execution_count": 35,
     "metadata": {},
     "output_type": "execute_result"
    },
    {
     "data": {
      "image/png": "[encoded data removed]",
      "text/plain": [
       "<Figure size 720x432 with 1 Axes>"
      ]
     },
     "metadata": {
      "needs_background": "light"
     },
     "output_type": "display_data"
    }
   ],
   "source": [
    "plt.figure(figsize=(10,6))  \n",
    "sns.countplot(x=\"sex\", hue=\"restecg\", data=heart)"
   ]
  },
  {
   "cell_type": "markdown",
   "id": "050d1d60",
   "metadata": {},
   "source": [
    "##### We see that there is no resting ECG of type 2=probable or definite left ventricular hypertrophy is seen in males and it is less seen in females.It means that both in males and females most inferred resting ECG is of type 0(normal)& 1(having ST-T wave abnormality)"
   ]
  },
  {
   "cell_type": "code",
   "execution_count": 36,
   "id": "ca5871d2",
   "metadata": {},
   "outputs": [
    {
     "data": {
      "text/plain": [
       "<AxesSubplot:xlabel='sex', ylabel='count'>"
      ]
     },
     "execution_count": 36,
     "metadata": {},
     "output_type": "execute_result"
    },
    {
     "data": {
      "image/png": "[encoded data removed]",
      "text/plain": [
       "<Figure size 720x432 with 1 Axes>"
      ]
     },
     "metadata": {
      "needs_background": "light"
     },
     "output_type": "display_data"
    }
   ],
   "source": [
    "plt.figure(figsize=(10,6))  \n",
    "sns.countplot(x=\"sex\", hue=\"slope\", data=heart)"
   ]
  },
  {
   "cell_type": "markdown",
   "id": "cd8cfeba",
   "metadata": {},
   "source": [
    "##### It can be inferred that very few males and females have upsloping peak exercise ST segment.And downsloping peak found is high in both male and female.(1=flat)\n"
   ]
  },
  {
   "cell_type": "code",
   "execution_count": 37,
   "id": "88fca4c0",
   "metadata": {},
   "outputs": [
    {
     "data": {
      "text/plain": [
       "<AxesSubplot:xlabel='sex', ylabel='count'>"
      ]
     },
     "execution_count": 37,
     "metadata": {},
     "output_type": "execute_result"
    },
    {
     "data": {
      "image/png": "[encoded data removed]",
      "text/plain": [
       "<Figure size 720x432 with 1 Axes>"
      ]
     },
     "metadata": {
      "needs_background": "light"
     },
     "output_type": "display_data"
    }
   ],
   "source": [
    "plt.figure(figsize=(10,6))  \n",
    "sns.countplot(x=\"sex\", hue=\"ca\", data=heart)"
   ]
  },
  {
   "cell_type": "markdown",
   "id": "5cec6c77",
   "metadata": {},
   "source": [
    "##### The proportion is high for both males and females for without fluoroscopy colored major vessels."
   ]
  },
  {
   "cell_type": "code",
   "execution_count": 38,
   "id": "56dbfd90",
   "metadata": {
    "scrolled": false
   },
   "outputs": [
    {
     "data": {
      "text/plain": [
       "<AxesSubplot:xlabel='cp', ylabel='count'>"
      ]
     },
     "execution_count": 38,
     "metadata": {},
     "output_type": "execute_result"
    },
    {
     "data": {
      "image/png": "[encoded data removed]",
      "text/plain": [
       "<Figure size 720x432 with 1 Axes>"
      ]
     },
     "metadata": {
      "needs_background": "light"
     },
     "output_type": "display_data"
    }
   ],
   "source": [
    "plt.figure(figsize=(10,6))  \n",
    "sns.countplot(x=\"cp\", hue=\"target\", data=heart)"
   ]
  },
  {
   "cell_type": "markdown",
   "id": "ef3991f1",
   "metadata": {},
   "source": [
    "##### It seems that chances are high for people having heart disease when they have chest pain type are 1,2 & 3 while for chest pain type 0 have chances of heart disease is half that of not having heart disease."
   ]
  },
  {
   "cell_type": "code",
   "execution_count": 39,
   "id": "93f285ab",
   "metadata": {},
   "outputs": [
    {
     "data": {
      "text/plain": [
       "<AxesSubplot:xlabel='fbs', ylabel='count'>"
      ]
     },
     "execution_count": 39,
     "metadata": {},
     "output_type": "execute_result"
    },
    {
     "data": {
      "image/png": "[encoded data removed]",
      "text/plain": [
       "<Figure size 720x432 with 1 Axes>"
      ]
     },
     "metadata": {
      "needs_background": "light"
     },
     "output_type": "display_data"
    }
   ],
   "source": [
    "plt.figure(figsize=(10,6))  \n",
    "sns.countplot(x=\"fbs\", hue=\"target\", data=heart)"
   ]
  },
  {
   "cell_type": "code",
   "execution_count": 40,
   "id": "9d9508f6",
   "metadata": {},
   "outputs": [
    {
     "data": {
      "image/png": "[encoded data removed]",
      "text/plain": [
       "<Figure size 288x288 with 1 Axes>"
      ]
     },
     "metadata": {
      "needs_background": "light"
     },
     "output_type": "display_data"
    }
   ],
   "source": [
    "fbs=pd.crosstab(heart[\"fbs\"],heart[\"target\"])\n",
    "fbs.div(fbs.sum(1).astype(float), axis=0).plot(kind=\"bar\",stacked=True,figsize=(4,4))\n",
    "plt.show()"
   ]
  },
  {
   "cell_type": "markdown",
   "id": "36ccc0f6",
   "metadata": {},
   "source": [
    "##### We see that proportion of person with and without fasting blood sugar is more or less same for having and not having heart disease."
   ]
  },
  {
   "cell_type": "code",
   "execution_count": 41,
   "id": "e129b0db",
   "metadata": {},
   "outputs": [
    {
     "data": {
      "image/png": "[encoded data removed]",
      "text/plain": [
       "<Figure size 720x432 with 1 Axes>"
      ]
     },
     "metadata": {
      "needs_background": "light"
     },
     "output_type": "display_data"
    },
    {
     "data": {
      "image/png": "[encoded data removed]",
      "text/plain": [
       "<Figure size 288x288 with 1 Axes>"
      ]
     },
     "metadata": {
      "needs_background": "light"
     },
     "output_type": "display_data"
    }
   ],
   "source": [
    "plt.figure(figsize=(10,6))  \n",
    "sns.countplot(x=\"restecg\", hue=\"target\", data=heart)\n",
    "\n",
    "restecg=pd.crosstab(heart[\"restecg\"],heart[\"target\"])\n",
    "restecg.div(restecg.sum(1).astype(float), axis=0).plot(kind=\"bar\",stacked=True,figsize=(4,4))\n",
    "plt.show()"
   ]
  },
  {
   "cell_type": "markdown",
   "id": "619aab89",
   "metadata": {},
   "source": [
    "##### The proportion of having heart disease is higher in people having ST-T wave abnormality in ECG ."
   ]
  },
  {
   "cell_type": "code",
   "execution_count": 42,
   "id": "4baaa4f6",
   "metadata": {},
   "outputs": [
    {
     "data": {
      "image/png": "[encoded data removed]",
      "text/plain": [
       "<Figure size 720x432 with 1 Axes>"
      ]
     },
     "metadata": {
      "needs_background": "light"
     },
     "output_type": "display_data"
    },
    {
     "data": {
      "image/png": "[encoded data removed]",
      "text/plain": [
       "<Figure size 288x288 with 1 Axes>"
      ]
     },
     "metadata": {
      "needs_background": "light"
     },
     "output_type": "display_data"
    }
   ],
   "source": [
    "plt.figure(figsize=(10,6))  \n",
    "sns.countplot(x=\"exang\", hue=\"target\", data=heart)\n",
    "\n",
    "exang=pd.crosstab(heart[\"exang\"],heart[\"target\"])\n",
    "exang.div(exang.sum(1).astype(float), axis=0).plot(kind=\"bar\",stacked=True,figsize=(4,4))\n",
    "plt.show()"
   ]
  },
  {
   "cell_type": "markdown",
   "id": "072f11e4",
   "metadata": {},
   "source": [
    "##### The chances of having heart disease is less in people having exercise angina and high in people not having exercise angina."
   ]
  },
  {
   "cell_type": "code",
   "execution_count": 43,
   "id": "a04cb2a6",
   "metadata": {},
   "outputs": [
    {
     "data": {
      "image/png": "[encoded data removed]",
      "text/plain": [
       "<Figure size 720x432 with 1 Axes>"
      ]
     },
     "metadata": {
      "needs_background": "light"
     },
     "output_type": "display_data"
    },
    {
     "data": {
      "image/png": "[encoded data removed]",
      "text/plain": [
       "<Figure size 288x288 with 1 Axes>"
      ]
     },
     "metadata": {
      "needs_background": "light"
     },
     "output_type": "display_data"
    }
   ],
   "source": [
    "plt.figure(figsize=(10,6))  \n",
    "sns.countplot(x=\"slope\", hue=\"target\", data=heart)\n",
    "\n",
    "slope=pd.crosstab(heart[\"slope\"],heart[\"target\"])\n",
    "slope.div(slope.sum(1).astype(float), axis=0).plot(kind=\"bar\",stacked=True,figsize=(4,4))\n",
    "plt.show()"
   ]
  },
  {
   "cell_type": "markdown",
   "id": "43bdd1b1",
   "metadata": {},
   "source": [
    "##### The chances of having heart disease is higher in people with upsloping peak exercise ST segment.There are less chances of having heart disease when slope is flat."
   ]
  },
  {
   "cell_type": "code",
   "execution_count": 44,
   "id": "6240ccd3",
   "metadata": {},
   "outputs": [
    {
     "data": {
      "image/png": "[encoded data removed]",
      "text/plain": [
       "<Figure size 720x432 with 1 Axes>"
      ]
     },
     "metadata": {
      "needs_background": "light"
     },
     "output_type": "display_data"
    },
    {
     "data": {
      "image/png": "[encoded data removed]",
      "text/plain": [
       "<Figure size 288x288 with 1 Axes>"
      ]
     },
     "metadata": {
      "needs_background": "light"
     },
     "output_type": "display_data"
    }
   ],
   "source": [
    "plt.figure(figsize=(10,6))  \n",
    "sns.countplot(x=\"ca\", hue=\"target\", data=heart)\n",
    "\n",
    "ca=pd.crosstab(heart[\"ca\"],heart[\"target\"])\n",
    "ca.div(ca.sum(1).astype(float), axis=0).plot(kind=\"bar\",stacked=True,figsize=(4,4))\n",
    "plt.show()"
   ]
  },
  {
   "cell_type": "markdown",
   "id": "1b2b863c",
   "metadata": {},
   "source": [
    "##### There are less chances of having heart disease in people with 2 fluorosopy colored major vessels and high not having fluorosopy colored vessel."
   ]
  },
  {
   "cell_type": "code",
   "execution_count": 45,
   "id": "704fe2ed",
   "metadata": {},
   "outputs": [
    {
     "data": {
      "image/png": "[encoded data removed]",
      "text/plain": [
       "<Figure size 720x432 with 1 Axes>"
      ]
     },
     "metadata": {
      "needs_background": "light"
     },
     "output_type": "display_data"
    },
    {
     "data": {
      "image/png": "[encoded data removed]",
      "text/plain": [
       "<Figure size 288x288 with 1 Axes>"
      ]
     },
     "metadata": {
      "needs_background": "light"
     },
     "output_type": "display_data"
    }
   ],
   "source": [
    "plt.figure(figsize=(10,6))  \n",
    "sns.countplot(x=\"thal\", hue=\"target\", data=heart)\n",
    "\n",
    "thal=pd.crosstab(heart[\"thal\"],heart[\"target\"])\n",
    "thal.div(thal.sum(1).astype(float), axis=0).plot(kind=\"bar\",stacked=True,figsize=(4,4))\n",
    "plt.show()"
   ]
  },
  {
   "cell_type": "markdown",
   "id": "2be69c56",
   "metadata": {},
   "source": [
    "##### We see the chances of heart attack are high in people having fixed defect thalassemia and less in people having reversable defect thalassemia."
   ]
  },
  {
   "cell_type": "markdown",
   "id": "1b2636af",
   "metadata": {},
   "source": [
    "# Splitting Data into Dependent and Independent Variable:"
   ]
  },
  {
   "cell_type": "code",
   "execution_count": 46,
   "id": "6fc2ed41",
   "metadata": {},
   "outputs": [],
   "source": [
    "x = heart.drop(['target'], axis = 1)\n",
    "y = heart.target"
   ]
  },
  {
   "cell_type": "code",
   "execution_count": 47,
   "id": "c52d42b1",
   "metadata": {},
   "outputs": [
    {
     "data": {
      "text/html": [
       "<div>\n",
       "<style scoped>\n",
       "    .dataframe tbody tr th:only-of-type {\n",
       "        vertical-align: middle;\n",
       "    }\n",
       "\n",
       "    .dataframe tbody tr th {\n",
       "        vertical-align: top;\n",
       "    }\n",
       "\n",
       "    .dataframe thead th {\n",
       "        text-align: right;\n",
       "    }\n",
       "</style>\n",
       "<table border=\"1\" class=\"dataframe\">\n",
       "  <thead>\n",
       "    <tr style=\"text-align: right;\">\n",
       "      <th></th>\n",
       "      <th>age</th>\n",
       "      <th>sex</th>\n",
       "      <th>cp</th>\n",
       "      <th>trestbps</th>\n",
       "      <th>chol</th>\n",
       "      <th>fbs</th>\n",
       "      <th>restecg</th>\n",
       "      <th>thalach</th>\n",
       "      <th>exang</th>\n",
       "      <th>oldpeak</th>\n",
       "      <th>slope</th>\n",
       "      <th>ca</th>\n",
       "      <th>thal</th>\n",
       "    </tr>\n",
       "  </thead>\n",
       "  <tbody>\n",
       "    <tr>\n",
       "      <th>0</th>\n",
       "      <td>52</td>\n",
       "      <td>1</td>\n",
       "      <td>0</td>\n",
       "      <td>125</td>\n",
       "      <td>212</td>\n",
       "      <td>0</td>\n",
       "      <td>1</td>\n",
       "      <td>168</td>\n",
       "      <td>0</td>\n",
       "      <td>1.0</td>\n",
       "      <td>2</td>\n",
       "      <td>2</td>\n",
       "      <td>3</td>\n",
       "    </tr>\n",
       "    <tr>\n",
       "      <th>1</th>\n",
       "      <td>53</td>\n",
       "      <td>1</td>\n",
       "      <td>0</td>\n",
       "      <td>140</td>\n",
       "      <td>203</td>\n",
       "      <td>1</td>\n",
       "      <td>0</td>\n",
       "      <td>155</td>\n",
       "      <td>1</td>\n",
       "      <td>3.1</td>\n",
       "      <td>0</td>\n",
       "      <td>0</td>\n",
       "      <td>3</td>\n",
       "    </tr>\n",
       "    <tr>\n",
       "      <th>2</th>\n",
       "      <td>70</td>\n",
       "      <td>1</td>\n",
       "      <td>0</td>\n",
       "      <td>145</td>\n",
       "      <td>174</td>\n",
       "      <td>0</td>\n",
       "      <td>1</td>\n",
       "      <td>125</td>\n",
       "      <td>1</td>\n",
       "      <td>2.6</td>\n",
       "      <td>0</td>\n",
       "      <td>0</td>\n",
       "      <td>3</td>\n",
       "    </tr>\n",
       "    <tr>\n",
       "      <th>3</th>\n",
       "      <td>61</td>\n",
       "      <td>1</td>\n",
       "      <td>0</td>\n",
       "      <td>148</td>\n",
       "      <td>203</td>\n",
       "      <td>0</td>\n",
       "      <td>1</td>\n",
       "      <td>161</td>\n",
       "      <td>0</td>\n",
       "      <td>0.0</td>\n",
       "      <td>2</td>\n",
       "      <td>1</td>\n",
       "      <td>3</td>\n",
       "    </tr>\n",
       "    <tr>\n",
       "      <th>5</th>\n",
       "      <td>58</td>\n",
       "      <td>0</td>\n",
       "      <td>0</td>\n",
       "      <td>100</td>\n",
       "      <td>248</td>\n",
       "      <td>0</td>\n",
       "      <td>0</td>\n",
       "      <td>122</td>\n",
       "      <td>0</td>\n",
       "      <td>1.0</td>\n",
       "      <td>1</td>\n",
       "      <td>0</td>\n",
       "      <td>2</td>\n",
       "    </tr>\n",
       "  </tbody>\n",
       "</table>\n",
       "</div>"
      ],
      "text/plain": [
       "   age  sex  cp  trestbps  chol  fbs  restecg  thalach  exang  oldpeak  slope  \\\n",
       "0   52    1   0       125   212    0        1      168      0      1.0      2   \n",
       "1   53    1   0       140   203    1        0      155      1      3.1      0   \n",
       "2   70    1   0       145   174    0        1      125      1      2.6      0   \n",
       "3   61    1   0       148   203    0        1      161      0      0.0      2   \n",
       "5   58    0   0       100   248    0        0      122      0      1.0      1   \n",
       "\n",
       "   ca  thal  \n",
       "0   2     3  \n",
       "1   0     3  \n",
       "2   0     3  \n",
       "3   1     3  \n",
       "5   0     2  "
      ]
     },
     "execution_count": 47,
     "metadata": {},
     "output_type": "execute_result"
    }
   ],
   "source": [
    "x.head()"
   ]
  },
  {
   "cell_type": "code",
   "execution_count": 48,
   "id": "e7d45994",
   "metadata": {},
   "outputs": [
    {
     "data": {
      "text/plain": [
       "0    0\n",
       "1    0\n",
       "2    0\n",
       "3    0\n",
       "5    1\n",
       "Name: target, dtype: int64"
      ]
     },
     "execution_count": 48,
     "metadata": {},
     "output_type": "execute_result"
    }
   ],
   "source": [
    "y.head()"
   ]
  },
  {
   "cell_type": "code",
   "execution_count": 49,
   "id": "ca22631f",
   "metadata": {},
   "outputs": [
    {
     "data": {
      "text/plain": [
       "1    143\n",
       "0     96\n",
       "Name: target, dtype: int64"
      ]
     },
     "execution_count": 49,
     "metadata": {},
     "output_type": "execute_result"
    }
   ],
   "source": [
    "y.value_counts()"
   ]
  },
  {
   "cell_type": "markdown",
   "id": "90a0adab",
   "metadata": {},
   "source": [
    "##### As people having heart disease are more than not having heart disease , the data is imbalanced.So, first we have to balance this data.\n"
   ]
  },
  {
   "cell_type": "markdown",
   "id": "5f4f255a",
   "metadata": {},
   "source": [
    "# Balancing the data"
   ]
  },
  {
   "cell_type": "code",
   "execution_count": 50,
   "id": "101d1758",
   "metadata": {},
   "outputs": [
    {
     "name": "stdout",
     "output_type": "stream",
     "text": [
      "original dataset shape: Counter({1: 143, 0: 96})\n",
      "Resample dataset shape Counter({0: 143, 1: 143})\n"
     ]
    }
   ],
   "source": [
    "from collections import Counter \n",
    "from imblearn.over_sampling import SMOTE\n",
    "sm=SMOTE(random_state=42)\n",
    "x_res,y_res=sm.fit_resample(x,y)\n",
    "\n",
    "print('original dataset shape:', Counter(y))\n",
    "print('Resample dataset shape', Counter(y_res))"
   ]
  },
  {
   "cell_type": "markdown",
   "id": "aaad158a",
   "metadata": {},
   "source": [
    "# Splitting Data into Training and Testing Data"
   ]
  },
  {
   "cell_type": "code",
   "execution_count": 51,
   "id": "a3d5e235",
   "metadata": {},
   "outputs": [],
   "source": [
    "from sklearn.model_selection import train_test_split\n",
    "x_train, x_test, y_train, y_test = train_test_split(x_res, y_res, test_size=0.3, random_state=45)"
   ]
  },
  {
   "cell_type": "code",
   "execution_count": 52,
   "id": "eefa00e3",
   "metadata": {},
   "outputs": [
    {
     "data": {
      "text/plain": [
       "((200, 13), (86, 13))"
      ]
     },
     "execution_count": 52,
     "metadata": {},
     "output_type": "execute_result"
    }
   ],
   "source": [
    "x_train.shape,x_test.shape"
   ]
  },
  {
   "cell_type": "code",
   "execution_count": 53,
   "id": "e1c7d981",
   "metadata": {},
   "outputs": [
    {
     "data": {
      "text/plain": [
       "((200,), (86,))"
      ]
     },
     "execution_count": 53,
     "metadata": {},
     "output_type": "execute_result"
    }
   ],
   "source": [
    "y_train.shape,y_test.shape"
   ]
  },
  {
   "cell_type": "markdown",
   "id": "d530205a",
   "metadata": {},
   "source": [
    "# Feature Scaling"
   ]
  },
  {
   "cell_type": "markdown",
   "id": "620be0e7",
   "metadata": {},
   "source": [
    "##### As in the data the variables are of different unit so we have to scale all the variables in the same unit."
   ]
  },
  {
   "cell_type": "code",
   "execution_count": 54,
   "id": "65aeb525",
   "metadata": {},
   "outputs": [
    {
     "data": {
      "text/plain": [
       "array([[ 1.31268422, -1.50953255,  1.14846498, ..., -0.63167162,\n",
       "         0.62554324, -0.84225988],\n",
       "       [ 0.62869765,  0.66245673, -0.85758739, ...,  1.07554897,\n",
       "         0.62554324,  1.187282  ],\n",
       "       [ 1.65467751,  0.66245673,  2.15149116, ..., -0.63167162,\n",
       "         0.62554324, -0.84225988],\n",
       "       ...,\n",
       "       [ 0.40070213,  0.66245673, -0.85758739, ...,  1.07554897,\n",
       "         2.01563934,  1.187282  ],\n",
       "       [ 0.74269542, -1.50953255, -0.85758739, ...,  1.07554897,\n",
       "        -0.76455285, -0.84225988],\n",
       "       [-0.28328444,  0.66245673,  0.1454388 , ...,  1.07554897,\n",
       "        -0.76455285, -0.84225988]])"
      ]
     },
     "execution_count": 54,
     "metadata": {},
     "output_type": "execute_result"
    }
   ],
   "source": [
    "from sklearn.preprocessing import StandardScaler\n",
    "#scaler = MinMaxScaler()\n",
    "scaler = StandardScaler()\n",
    "\n",
    "x_train = scaler.fit_transform(x_train)\n",
    "x_test = scaler.transform(x_test)\n",
    "x_train"
   ]
  },
  {
   "cell_type": "markdown",
   "id": "46aa1992",
   "metadata": {},
   "source": [
    "# Model Building"
   ]
  },
  {
   "cell_type": "markdown",
   "id": "5b3e4053",
   "metadata": {},
   "source": [
    "# 1.Logistic Regression"
   ]
  },
  {
   "cell_type": "code",
   "execution_count": 55,
   "id": "45c81e17",
   "metadata": {},
   "outputs": [],
   "source": [
    "from sklearn.linear_model import LogisticRegression\n",
    "from sklearn.metrics import accuracy_score ,confusion_matrix,recall_score,precision_score,ConfusionMatrixDisplay"
   ]
  },
  {
   "cell_type": "code",
   "execution_count": 56,
   "id": "cb7f4ea8",
   "metadata": {},
   "outputs": [
    {
     "name": "stdout",
     "output_type": "stream",
     "text": [
      "max_iter :  0\n",
      "accuracy score :  0.8604651162790697\n",
      "\n",
      "\n",
      "max_iter :  10\n",
      "accuracy score :  0.9069767441860465\n",
      "\n",
      "\n",
      "max_iter :  20\n",
      "accuracy score :  0.9069767441860465\n",
      "\n",
      "\n",
      "max_iter :  30\n",
      "accuracy score :  0.9069767441860465\n",
      "\n",
      "\n",
      "max_iter :  40\n",
      "accuracy score :  0.9069767441860465\n",
      "\n",
      "\n",
      "max_iter :  50\n",
      "accuracy score :  0.9069767441860465\n",
      "\n",
      "\n",
      "max_iter :  60\n",
      "accuracy score :  0.9069767441860465\n",
      "\n",
      "\n",
      "max_iter :  70\n",
      "accuracy score :  0.9069767441860465\n",
      "\n",
      "\n",
      "max_iter :  80\n",
      "accuracy score :  0.9069767441860465\n",
      "\n",
      "\n",
      "max_iter :  90\n",
      "accuracy score :  0.9069767441860465\n",
      "\n",
      "\n",
      "max_iter :  100\n",
      "accuracy score :  0.9069767441860465\n",
      "\n",
      "\n",
      "Max_iter :  10\n",
      "Accuracy_score :  0.9069767441860465\n"
     ]
    }
   ],
   "source": [
    "maxi_iter = [ ]\n",
    "for i in range(0,110,10):\n",
    "    model_l = LogisticRegression(max_iter=i)\n",
    "    model_l.fit(x_train,y_train)\n",
    "    pred_l = model_l.predict(x_test)\n",
    "    accuracy_score(y_test,pred_l)\n",
    "    maxi_iter.append(accuracy_score(y_test,pred_l))\n",
    "    print(\"max_iter : \",i)\n",
    "    print(\"accuracy score : \",(accuracy_score(y_test,pred_l)))\n",
    "    print(\"\\n\")\n",
    "print(\"Max_iter : \",(maxi_iter.index(max(maxi_iter)))*10)\n",
    "print(\"Accuracy_score : \",max(maxi_iter))"
   ]
  },
  {
   "cell_type": "code",
   "execution_count": 57,
   "id": "b772c31c",
   "metadata": {},
   "outputs": [
    {
     "data": {
      "text/plain": [
       "0.9245283018867925"
      ]
     },
     "execution_count": 57,
     "metadata": {},
     "output_type": "execute_result"
    }
   ],
   "source": [
    "precision_score(y_test,pred_l)"
   ]
  },
  {
   "cell_type": "code",
   "execution_count": 58,
   "id": "485775ee",
   "metadata": {},
   "outputs": [
    {
     "data": {
      "text/plain": [
       "0.9245283018867925"
      ]
     },
     "execution_count": 58,
     "metadata": {},
     "output_type": "execute_result"
    }
   ],
   "source": [
    "recall_score(y_test,pred_l)"
   ]
  },
  {
   "cell_type": "code",
   "execution_count": 59,
   "id": "c3416c93",
   "metadata": {},
   "outputs": [
    {
     "data": {
      "text/plain": [
       "array([[29,  4],\n",
       "       [ 4, 49]], dtype=int64)"
      ]
     },
     "execution_count": 59,
     "metadata": {},
     "output_type": "execute_result"
    }
   ],
   "source": [
    "confusion_matrix(y_test,pred_l)"
   ]
  },
  {
   "cell_type": "code",
   "execution_count": 60,
   "id": "0fc8dce7",
   "metadata": {},
   "outputs": [
    {
     "data": {
      "image/png": "[encoded data removed]",
      "text/plain": [
       "<Figure size 432x288 with 1 Axes>"
      ]
     },
     "metadata": {
      "needs_background": "light"
     },
     "output_type": "display_data"
    }
   ],
   "source": [
    "# Visualising Confusion Matrix\n",
    "cm = confusion_matrix(y_test, pred_l)\n",
    "sns.heatmap(cm, cmap='Blues', annot=True, fmt='d', cbar=False, yticklabels=['Not Heart disease', ' Heart disease'],\n",
    "            xticklabels=['Predicted Not Heart disease', 'Predicted Heart disease'])\n",
    "plt.show()"
   ]
  },
  {
   "cell_type": "markdown",
   "id": "7ed186f2",
   "metadata": {},
   "source": [
    "# 2.Decision Tree"
   ]
  },
  {
   "cell_type": "code",
   "execution_count": 61,
   "id": "3896c432",
   "metadata": {},
   "outputs": [],
   "source": [
    "from sklearn.tree import DecisionTreeClassifier"
   ]
  },
  {
   "cell_type": "code",
   "execution_count": 62,
   "id": "a88765aa",
   "metadata": {},
   "outputs": [],
   "source": [
    "model_dt = DecisionTreeClassifier(max_depth=3)"
   ]
  },
  {
   "cell_type": "code",
   "execution_count": 63,
   "id": "fbc976a1",
   "metadata": {},
   "outputs": [
    {
     "data": {
      "text/html": [
       "<style>#sk-container-id-1 {color: black;background-color: white;}#sk-container-id-1 pre{padding: 0;}#sk-container-id-1 div.sk-toggleable {background-color: white;}#sk-container-id-1 label.sk-toggleable__label {cursor: pointer;display: block;width: 100%;margin-bottom: 0;padding: 0.3em;box-sizing: border-box;text-align: center;}#sk-container-id-1 label.sk-toggleable__label-arrow:before {content: \"▸\";float: left;margin-right: 0.25em;color: #696969;}#sk-container-id-1 label.sk-toggleable__label-arrow:hover:before {color: black;}#sk-container-id-1 div.sk-estimator:hover label.sk-toggleable__label-arrow:before {color: black;}#sk-container-id-1 div.sk-toggleable__content {max-height: 0;max-width: 0;overflow: hidden;text-align: left;background-color: #f0f8ff;}#sk-container-id-1 div.sk-toggleable__content pre {margin: 0.2em;color: black;border-radius: 0.25em;background-color: #f0f8ff;}#sk-container-id-1 input.sk-toggleable__control:checked~div.sk-toggleable__content {max-height: 200px;max-width: 100%;overflow: auto;}#sk-container-id-1 input.sk-toggleable__control:checked~label.sk-toggleable__label-arrow:before {content: \"▾\";}#sk-container-id-1 div.sk-estimator input.sk-toggleable__control:checked~label.sk-toggleable__label {background-color: #d4ebff;}#sk-container-id-1 div.sk-label input.sk-toggleable__control:checked~label.sk-toggleable__label {background-color: #d4ebff;}#sk-container-id-1 input.sk-hidden--visually {border: 0;clip: rect(1px 1px 1px 1px);clip: rect(1px, 1px, 1px, 1px);height: 1px;margin: -1px;overflow: hidden;padding: 0;position: absolute;width: 1px;}#sk-container-id-1 div.sk-estimator {font-family: monospace;background-color: #f0f8ff;border: 1px dotted black;border-radius: 0.25em;box-sizing: border-box;margin-bottom: 0.5em;}#sk-container-id-1 div.sk-estimator:hover {background-color: #d4ebff;}#sk-container-id-1 div.sk-parallel-item::after {content: \"\";width: 100%;border-bottom: 1px solid gray;flex-grow: 1;}#sk-container-id-1 div.sk-label:hover label.sk-toggleable__label {background-color: #d4ebff;}#sk-container-id-1 div.sk-serial::before {content: \"\";position: absolute;border-left: 1px solid gray;box-sizing: border-box;top: 0;bottom: 0;left: 50%;z-index: 0;}#sk-container-id-1 div.sk-serial {display: flex;flex-direction: column;align-items: center;background-color: white;padding-right: 0.2em;padding-left: 0.2em;position: relative;}#sk-container-id-1 div.sk-item {position: relative;z-index: 1;}#sk-container-id-1 div.sk-parallel {display: flex;align-items: stretch;justify-content: center;background-color: white;position: relative;}#sk-container-id-1 div.sk-item::before, #sk-container-id-1 div.sk-parallel-item::before {content: \"\";position: absolute;border-left: 1px solid gray;box-sizing: border-box;top: 0;bottom: 0;left: 50%;z-index: -1;}#sk-container-id-1 div.sk-parallel-item {display: flex;flex-direction: column;z-index: 1;position: relative;background-color: white;}#sk-container-id-1 div.sk-parallel-item:first-child::after {align-self: flex-end;width: 50%;}#sk-container-id-1 div.sk-parallel-item:last-child::after {align-self: flex-start;width: 50%;}#sk-container-id-1 div.sk-parallel-item:only-child::after {width: 0;}#sk-container-id-1 div.sk-dashed-wrapped {border: 1px dashed gray;margin: 0 0.4em 0.5em 0.4em;box-sizing: border-box;padding-bottom: 0.4em;background-color: white;}#sk-container-id-1 div.sk-label label {font-family: monospace;font-weight: bold;display: inline-block;line-height: 1.2em;}#sk-container-id-1 div.sk-label-container {text-align: center;}#sk-container-id-1 div.sk-container {/* jupyter's `normalize.less` sets `[hidden] { display: none; }` but bootstrap.min.css set `[hidden] { display: none !important; }` so we also need the `!important` here to be able to override the default hidden behavior on the sphinx rendered scikit-learn.org. See: https://github.com/scikit-learn/scikit-learn/issues/21755 */display: inline-block !important;position: relative;}#sk-container-id-1 div.sk-text-repr-fallback {display: none;}</style><div id=\"sk-container-id-1\" class=\"sk-top-container\"><div class=\"sk-text-repr-fallback\"><pre>DecisionTreeClassifier(max_depth=3)</pre><b>In a Jupyter environment, please rerun this cell to show the HTML representation or trust the notebook. <br />On GitHub, the HTML representation is unable to render, please try loading this page with nbviewer.org.</b></div><div class=\"sk-container\" hidden><div class=\"sk-item\"><div class=\"sk-estimator sk-toggleable\"><input class=\"sk-toggleable__control sk-hidden--visually\" id=\"sk-estimator-id-1\" type=\"checkbox\" checked><label for=\"sk-estimator-id-1\" class=\"sk-toggleable__label sk-toggleable__label-arrow\">DecisionTreeClassifier</label><div class=\"sk-toggleable__content\"><pre>DecisionTreeClassifier(max_depth=3)</pre></div></div></div></div></div>"
      ],
      "text/plain": [
       "DecisionTreeClassifier(max_depth=3)"
      ]
     },
     "execution_count": 63,
     "metadata": {},
     "output_type": "execute_result"
    }
   ],
   "source": [
    "model_dt.fit(x_train,y_train)"
   ]
  },
  {
   "cell_type": "code",
   "execution_count": 64,
   "id": "ede5c838",
   "metadata": {},
   "outputs": [
    {
     "data": {
      "text/plain": [
       "array([1, 0, 1, 1, 1, 0, 1, 1, 0, 1, 1, 1, 1, 1, 0, 0, 1, 0, 0, 1, 1, 1,\n",
       "       0, 1, 1, 0, 0, 1, 1, 1, 1, 1, 1, 0, 0, 1, 0, 1, 1, 1, 1, 1, 1, 1,\n",
       "       0, 1, 0, 0, 1, 1, 1, 0, 0, 0, 1, 1, 1, 0, 0, 1, 1, 0, 0, 0, 1, 1,\n",
       "       0, 1, 0, 0, 1, 0, 1, 1, 0, 0, 1, 1, 1, 1, 1, 1, 1, 1, 0, 1],\n",
       "      dtype=int64)"
      ]
     },
     "execution_count": 64,
     "metadata": {},
     "output_type": "execute_result"
    }
   ],
   "source": [
    "pred_dt = model_dt.predict(x_test)\n",
    "pred_dt"
   ]
  },
  {
   "cell_type": "code",
   "execution_count": 65,
   "id": "2fe9f6aa",
   "metadata": {},
   "outputs": [
    {
     "data": {
      "text/plain": [
       "0.813953488372093"
      ]
     },
     "execution_count": 65,
     "metadata": {},
     "output_type": "execute_result"
    }
   ],
   "source": [
    "accuracy_score(y_test,pred_dt)"
   ]
  },
  {
   "cell_type": "code",
   "execution_count": 66,
   "id": "71906858",
   "metadata": {},
   "outputs": [
    {
     "data": {
      "text/plain": [
       "0.8363636363636363"
      ]
     },
     "execution_count": 66,
     "metadata": {},
     "output_type": "execute_result"
    }
   ],
   "source": [
    "precision_score(y_test,pred_dt)"
   ]
  },
  {
   "cell_type": "code",
   "execution_count": 67,
   "id": "b36c178a",
   "metadata": {},
   "outputs": [
    {
     "data": {
      "text/plain": [
       "0.8679245283018868"
      ]
     },
     "execution_count": 67,
     "metadata": {},
     "output_type": "execute_result"
    }
   ],
   "source": [
    "recall_score(y_test,pred_dt)"
   ]
  },
  {
   "cell_type": "code",
   "execution_count": 68,
   "id": "2ea9f0c9",
   "metadata": {},
   "outputs": [
    {
     "data": {
      "text/plain": [
       "array([[24,  9],\n",
       "       [ 7, 46]], dtype=int64)"
      ]
     },
     "execution_count": 68,
     "metadata": {},
     "output_type": "execute_result"
    }
   ],
   "source": [
    "confusion_matrix(y_test,pred_dt)"
   ]
  },
  {
   "cell_type": "code",
   "execution_count": 69,
   "id": "371acca6",
   "metadata": {},
   "outputs": [
    {
     "data": {
      "image/png": "[encoded data removed]",
      "text/plain": [
       "<Figure size 432x288 with 1 Axes>"
      ]
     },
     "metadata": {
      "needs_background": "light"
     },
     "output_type": "display_data"
    }
   ],
   "source": [
    "# Visualising Confusion Matrix\n",
    "cm = confusion_matrix(y_test, pred_dt)\n",
    "sns.heatmap(cm, cmap='Greys_r', annot=True, fmt='d', cbar=False, yticklabels=['Not Heart disease', ' Heart disease'],\n",
    "            xticklabels=['Predicted Not Heart disease', 'Predicted Heart disease'])\n",
    "plt.show()"
   ]
  },
  {
   "cell_type": "code",
   "execution_count": 70,
   "id": "b99836d3",
   "metadata": {},
   "outputs": [],
   "source": [
    "from sklearn.tree import plot_tree"
   ]
  },
  {
   "cell_type": "code",
   "execution_count": 71,
   "id": "49ced19a",
   "metadata": {},
   "outputs": [
    {
     "data": {
      "text/plain": [
       "Index(['age', 'sex', 'cp', 'trestbps', 'chol', 'fbs', 'restecg', 'thalach',\n",
       "       'exang', 'oldpeak', 'slope', 'ca', 'thal', 'target'],\n",
       "      dtype='object')"
      ]
     },
     "execution_count": 71,
     "metadata": {},
     "output_type": "execute_result"
    }
   ],
   "source": [
    "heart.columns"
   ]
  },
  {
   "cell_type": "code",
   "execution_count": 72,
   "id": "5ba00e06",
   "metadata": {},
   "outputs": [
    {
     "data": {
      "text/plain": [
       "array([0, 1], dtype=int64)"
      ]
     },
     "execution_count": 72,
     "metadata": {},
     "output_type": "execute_result"
    }
   ],
   "source": [
    "heart.target.unique()"
   ]
  },
  {
   "cell_type": "code",
   "execution_count": 73,
   "id": "7e2c71e0",
   "metadata": {},
   "outputs": [],
   "source": [
    "feature_name = ['age', 'sex', 'cp', 'trestbps', 'chol', 'fbs', 'restecg', 'thalach',\n",
    "       'exang', 'oldpeak', 'slope', 'ca', 'thal']\n",
    "cn = [\"0\",\"1\"]"
   ]
  },
  {
   "cell_type": "code",
   "execution_count": 74,
   "id": "3b491e9e",
   "metadata": {},
   "outputs": [
    {
     "data": {
      "image/png": "[encoded data removed]",
      "text/plain": [
       "<Figure size 720x720 with 1 Axes>"
      ]
     },
     "metadata": {
      "needs_background": "light"
     },
     "output_type": "display_data"
    }
   ],
   "source": [
    "plt.figure(figsize=(10,10))\n",
    "a = plot_tree(model_dt,fontsize=8,feature_names=feature_name,class_names=cn,filled=True)\n",
    "plt.show()"
   ]
  },
  {
   "cell_type": "markdown",
   "id": "c23d96c4",
   "metadata": {},
   "source": [
    "# 3.KNN Algorithm"
   ]
  },
  {
   "cell_type": "code",
   "execution_count": 75,
   "id": "9e123580",
   "metadata": {},
   "outputs": [],
   "source": [
    "from sklearn.neighbors import KNeighborsClassifier"
   ]
  },
  {
   "cell_type": "code",
   "execution_count": 76,
   "id": "1611fa95",
   "metadata": {},
   "outputs": [],
   "source": [
    "model_knn = KNeighborsClassifier()\n",
    "model_knn.fit(x_train,y_train)\n",
    "pred_knn = model_knn.predict(x_test)"
   ]
  },
  {
   "cell_type": "code",
   "execution_count": 77,
   "id": "e0684d03",
   "metadata": {},
   "outputs": [
    {
     "data": {
      "text/plain": [
       "array([1, 0, 1, 1, 1, 1, 1, 1, 0, 1, 1, 1, 1, 0, 1, 1, 1, 0, 0, 1, 1, 1,\n",
       "       0, 0, 1, 0, 0, 0, 1, 1, 1, 1, 0, 0, 1, 1, 0, 1, 1, 1, 0, 0, 1, 1,\n",
       "       0, 1, 1, 0, 1, 1, 1, 0, 0, 1, 0, 1, 0, 0, 1, 0, 1, 0, 0, 0, 1, 0,\n",
       "       0, 1, 0, 0, 1, 1, 1, 0, 0, 0, 1, 0, 1, 1, 1, 0, 1, 0, 0, 0],\n",
       "      dtype=int64)"
      ]
     },
     "execution_count": 77,
     "metadata": {},
     "output_type": "execute_result"
    }
   ],
   "source": [
    "pred_knn"
   ]
  },
  {
   "cell_type": "code",
   "execution_count": 78,
   "id": "33067feb",
   "metadata": {},
   "outputs": [
    {
     "data": {
      "text/plain": [
       "0.8488372093023255"
      ]
     },
     "execution_count": 78,
     "metadata": {},
     "output_type": "execute_result"
    }
   ],
   "source": [
    "accuracy_score(y_test,pred_knn)"
   ]
  },
  {
   "cell_type": "code",
   "execution_count": 79,
   "id": "75863e79",
   "metadata": {},
   "outputs": [
    {
     "name": "stdout",
     "output_type": "stream",
     "text": [
      "n_neighbors :  5\n",
      "accuracy score :  0.8488372093023255\n",
      "\n",
      "\n",
      "n_neighbors :  7\n",
      "accuracy score :  0.8604651162790697\n",
      "\n",
      "\n",
      "n_neighbors :  9\n",
      "accuracy score :  0.8488372093023255\n",
      "\n",
      "\n",
      "n_neighbors :  11\n",
      "accuracy score :  0.8023255813953488\n",
      "\n",
      "\n",
      "n_neighbors :  13\n",
      "accuracy score :  0.813953488372093\n",
      "\n",
      "\n",
      "n_neighbors :  15\n",
      "accuracy score :  0.813953488372093\n",
      "\n",
      "\n",
      "n_neighbors :  17\n",
      "accuracy score :  0.8023255813953488\n",
      "\n",
      "\n",
      "n_neighbors :  19\n",
      "accuracy score :  0.8023255813953488\n",
      "\n",
      "\n",
      "n_neighbors :  21\n",
      "accuracy score :  0.8255813953488372\n",
      "\n",
      "\n",
      "n_neighbors :  23\n",
      "accuracy score :  0.813953488372093\n",
      "\n",
      "\n",
      "n_neighbors :  25\n",
      "accuracy score :  0.8372093023255814\n",
      "\n",
      "\n",
      "n_neighbors :  27\n",
      "accuracy score :  0.7906976744186046\n",
      "\n",
      "\n",
      "n_neighbors :  29\n",
      "accuracy score :  0.7906976744186046\n",
      "\n",
      "\n",
      "n_neighbors :  31\n",
      "accuracy score :  0.7906976744186046\n",
      "\n",
      "\n",
      "n_neighbors :  33\n",
      "accuracy score :  0.7906976744186046\n",
      "\n",
      "\n",
      "n_neighbors :  35\n",
      "accuracy score :  0.7906976744186046\n",
      "\n",
      "\n",
      "n_neighbors :  37\n",
      "accuracy score :  0.8023255813953488\n",
      "\n",
      "\n",
      "n_neighbors :  39\n",
      "accuracy score :  0.813953488372093\n",
      "\n",
      "\n",
      "n_neighbors :  41\n",
      "accuracy score :  0.813953488372093\n",
      "\n",
      "\n",
      "n_neighbors :  43\n",
      "accuracy score :  0.7906976744186046\n",
      "\n",
      "\n",
      "n_neighbors :  45\n",
      "accuracy score :  0.7906976744186046\n",
      "\n",
      "\n",
      "n_neighbors :  47\n",
      "accuracy score :  0.813953488372093\n",
      "\n",
      "\n",
      "n_neighbors :  49\n",
      "accuracy score :  0.813953488372093\n",
      "\n",
      "\n",
      "n_neighbors :  51\n",
      "accuracy score :  0.7906976744186046\n",
      "\n",
      "\n",
      "n_neighbors :  53\n",
      "accuracy score :  0.8255813953488372\n",
      "\n",
      "\n",
      "n_neighbors :  55\n",
      "accuracy score :  0.813953488372093\n",
      "\n",
      "\n",
      "n_neighbors :  57\n",
      "accuracy score :  0.7790697674418605\n",
      "\n",
      "\n",
      "n_neighbors :  59\n",
      "accuracy score :  0.7790697674418605\n",
      "\n",
      "\n",
      "n_neighbors :  61\n",
      "accuracy score :  0.7906976744186046\n",
      "\n",
      "\n",
      "n_neighbors :  63\n",
      "accuracy score :  0.8023255813953488\n",
      "\n",
      "\n",
      "n_neighbors :  65\n",
      "accuracy score :  0.8023255813953488\n",
      "\n",
      "\n",
      "n_neighbors :  67\n",
      "accuracy score :  0.8023255813953488\n",
      "\n",
      "\n",
      "n_neighbors :  69\n",
      "accuracy score :  0.813953488372093\n",
      "\n",
      "\n",
      "n_neighbors :  71\n",
      "accuracy score :  0.813953488372093\n",
      "\n",
      "\n",
      "n_neighbors :  73\n",
      "accuracy score :  0.8255813953488372\n",
      "\n",
      "\n",
      "Accuracy :  0.8604651162790697\n"
     ]
    }
   ],
   "source": [
    "n_neighbor = []\n",
    "for i in range(5,75,2):\n",
    "    model_knn = KNeighborsClassifier(n_neighbors=i)\n",
    "    model_knn.fit(x_train,y_train)\n",
    "    pred_knn = model_knn.predict(x_test)\n",
    "    accuracy_score(pred_knn,y_test)\n",
    "    n_neighbor.append(accuracy_score(pred_knn,y_test))\n",
    "    print(\"n_neighbors : \",i)\n",
    "    print(\"accuracy score : \",(accuracy_score(pred_knn,y_test)))\n",
    "    print(\"\\n\")\n",
    "print(\"Accuracy : \",max(n_neighbor))"
   ]
  },
  {
   "cell_type": "code",
   "execution_count": null,
   "id": "7831aaec",
   "metadata": {},
   "outputs": [],
   "source": [
    "n_neighbors :  7\n",
    "accuracy score :  0.8604651162790697\n"
   ]
  },
  {
   "cell_type": "code",
   "execution_count": 80,
   "id": "b566f52c",
   "metadata": {},
   "outputs": [
    {
     "data": {
      "text/plain": [
       "0.8653846153846154"
      ]
     },
     "execution_count": 80,
     "metadata": {},
     "output_type": "execute_result"
    }
   ],
   "source": [
    "precision_score(y_test,pred_knn)"
   ]
  },
  {
   "cell_type": "code",
   "execution_count": 81,
   "id": "6a467f87",
   "metadata": {},
   "outputs": [
    {
     "data": {
      "text/plain": [
       "0.8490566037735849"
      ]
     },
     "execution_count": 81,
     "metadata": {},
     "output_type": "execute_result"
    }
   ],
   "source": [
    "recall_score(y_test,pred_knn)"
   ]
  },
  {
   "cell_type": "code",
   "execution_count": 82,
   "id": "4b431b2c",
   "metadata": {},
   "outputs": [
    {
     "data": {
      "text/plain": [
       "array([[26,  7],\n",
       "       [ 8, 45]], dtype=int64)"
      ]
     },
     "execution_count": 82,
     "metadata": {},
     "output_type": "execute_result"
    }
   ],
   "source": [
    "confusion_matrix(y_test,pred_knn)"
   ]
  },
  {
   "cell_type": "code",
   "execution_count": 83,
   "id": "b1d864a3",
   "metadata": {},
   "outputs": [
    {
     "data": {
      "image/png": "[encoded data removed]",
      "text/plain": [
       "<Figure size 432x288 with 2 Axes>"
      ]
     },
     "metadata": {
      "needs_background": "light"
     },
     "output_type": "display_data"
    }
   ],
   "source": [
    "# Visualising Confusion Matrix\n",
    "cm = confusion_matrix(y_test, pred_knn)\n",
    "sns.heatmap(cm, cmap='pink', annot=True, fmt='d', yticklabels=['Not Heart disease', ' Heart disease'],\n",
    "            xticklabels=['Predicted Not Heart disease', 'Predicted Heart disease'])\n",
    "plt.show()"
   ]
  },
  {
   "cell_type": "code",
   "execution_count": 84,
   "id": "698e23aa",
   "metadata": {},
   "outputs": [
    {
     "name": "stdout",
     "output_type": "stream",
     "text": [
      "[0.8488372093023255, 0.8604651162790697, 0.8488372093023255, 0.8023255813953488, 0.813953488372093, 0.813953488372093, 0.8023255813953488, 0.8023255813953488, 0.8255813953488372, 0.813953488372093, 0.8372093023255814, 0.7906976744186046, 0.7906976744186046, 0.7906976744186046, 0.7906976744186046, 0.7906976744186046, 0.8023255813953488, 0.813953488372093, 0.813953488372093, 0.7906976744186046, 0.7906976744186046, 0.813953488372093, 0.813953488372093, 0.7906976744186046, 0.8255813953488372, 0.813953488372093, 0.7790697674418605, 0.7790697674418605, 0.7906976744186046, 0.8023255813953488, 0.8023255813953488, 0.8023255813953488, 0.813953488372093, 0.813953488372093, 0.8255813953488372]\n"
     ]
    }
   ],
   "source": [
    "scores = []\n",
    "for k in range(5,75,2):\n",
    "    knn = KNeighborsClassifier(n_neighbors=k)\n",
    "    knn.fit(x_train, y_train)\n",
    "    pred_knn = knn.predict(x_test)\n",
    "    accuracy_score(pred_knn,y_test)\n",
    "    scores.append(accuracy_score(pred_knn,y_test))\n",
    "\n",
    "print(scores)"
   ]
  },
  {
   "cell_type": "code",
   "execution_count": 85,
   "id": "d08baed5",
   "metadata": {},
   "outputs": [
    {
     "data": {
      "text/plain": [
       "Text(0, 0.5, 'Testing Accuracy')"
      ]
     },
     "execution_count": 85,
     "metadata": {},
     "output_type": "execute_result"
    },
    {
     "data": {
      "image/png": "[encoded data removed]",
      "text/plain": [
       "<Figure size 432x288 with 1 Axes>"
      ]
     },
     "metadata": {
      "needs_background": "light"
     },
     "output_type": "display_data"
    }
   ],
   "source": [
    "plt.plot(range(5,75,2), scores,color =\"red\",linestyle = \"dashed\",marker =\"o\",markerfacecolor =\"black\",markersize=10)\n",
    "plt.xlabel('Value of K for KNN')\n",
    "plt.ylabel('Testing Accuracy') \n"
   ]
  },
  {
   "cell_type": "markdown",
   "id": "4eb44a4a",
   "metadata": {},
   "source": [
    "# 4.Naive Bayes Classifier"
   ]
  },
  {
   "cell_type": "code",
   "execution_count": 86,
   "id": "86665cec",
   "metadata": {},
   "outputs": [],
   "source": [
    "from sklearn.naive_bayes import GaussianNB"
   ]
  },
  {
   "cell_type": "code",
   "execution_count": 87,
   "id": "b7e922bc",
   "metadata": {},
   "outputs": [
    {
     "data": {
      "text/plain": [
       "array([1, 0, 1, 1, 1, 0, 0, 1, 0, 1, 1, 1, 1, 0, 0, 0, 1, 0, 0, 1, 0, 1,\n",
       "       0, 1, 1, 0, 0, 0, 1, 1, 1, 1, 1, 0, 1, 1, 0, 1, 1, 1, 1, 1, 1, 1,\n",
       "       0, 1, 1, 0, 1, 1, 1, 0, 0, 1, 0, 1, 0, 0, 1, 0, 1, 0, 0, 0, 1, 1,\n",
       "       0, 1, 0, 0, 1, 1, 1, 1, 1, 0, 1, 1, 1, 1, 1, 0, 1, 1, 1, 0],\n",
       "      dtype=int64)"
      ]
     },
     "execution_count": 87,
     "metadata": {},
     "output_type": "execute_result"
    }
   ],
   "source": [
    "model_nb = GaussianNB()\n",
    "model_nb.fit(x_train,y_train)\n",
    "pred_nb = model_nb.predict(x_test)\n",
    "pred_nb"
   ]
  },
  {
   "cell_type": "code",
   "execution_count": 88,
   "id": "c4ae38c5",
   "metadata": {},
   "outputs": [
    {
     "data": {
      "text/plain": [
       "0.9069767441860465"
      ]
     },
     "execution_count": 88,
     "metadata": {},
     "output_type": "execute_result"
    }
   ],
   "source": [
    "accuracy_score(y_test,pred_nb)"
   ]
  },
  {
   "cell_type": "code",
   "execution_count": 89,
   "id": "bb146fa5",
   "metadata": {},
   "outputs": [
    {
     "data": {
      "text/plain": [
       "0.9245283018867925"
      ]
     },
     "execution_count": 89,
     "metadata": {},
     "output_type": "execute_result"
    }
   ],
   "source": [
    "precision_score(y_test,pred_nb)"
   ]
  },
  {
   "cell_type": "code",
   "execution_count": 90,
   "id": "801df5d5",
   "metadata": {},
   "outputs": [
    {
     "data": {
      "text/plain": [
       "0.9245283018867925"
      ]
     },
     "execution_count": 90,
     "metadata": {},
     "output_type": "execute_result"
    }
   ],
   "source": [
    "recall_score(y_test,pred_nb)"
   ]
  },
  {
   "cell_type": "code",
   "execution_count": 91,
   "id": "faa23be9",
   "metadata": {},
   "outputs": [
    {
     "data": {
      "text/plain": [
       "array([[29,  4],\n",
       "       [ 4, 49]], dtype=int64)"
      ]
     },
     "execution_count": 91,
     "metadata": {},
     "output_type": "execute_result"
    }
   ],
   "source": [
    "confusion_matrix(y_test,pred_nb)"
   ]
  },
  {
   "cell_type": "code",
   "execution_count": 92,
   "id": "b46acc3b",
   "metadata": {},
   "outputs": [
    {
     "data": {
      "image/png": "[encoded data removed]",
      "text/plain": [
       "<Figure size 432x288 with 1 Axes>"
      ]
     },
     "metadata": {
      "needs_background": "light"
     },
     "output_type": "display_data"
    }
   ],
   "source": [
    "# Visualising Confusion Matrix\n",
    "cm = confusion_matrix(y_test, pred_nb)\n",
    "sns.heatmap(cm, cmap='pink_r', annot=True, fmt='d', cbar=False, yticklabels=['Not Heart disease', ' Heart disease'],\n",
    "            xticklabels=['Predicted Not Heart disease', 'Predicted Heart disease'])\n",
    "plt.show()"
   ]
  },
  {
   "cell_type": "markdown",
   "id": "92f75528",
   "metadata": {},
   "source": [
    "# 5.Support Vector Machine"
   ]
  },
  {
   "cell_type": "code",
   "execution_count": 93,
   "id": "d04bf8b1",
   "metadata": {},
   "outputs": [],
   "source": [
    "from sklearn.svm import SVC"
   ]
  },
  {
   "cell_type": "code",
   "execution_count": 94,
   "id": "36b8059a",
   "metadata": {},
   "outputs": [],
   "source": [
    "model_svc = SVC()\n",
    "model_svc.fit(x_train,y_train)\n",
    "pred_svc = model_svc.predict(x_test)"
   ]
  },
  {
   "cell_type": "code",
   "execution_count": 95,
   "id": "ac507692",
   "metadata": {},
   "outputs": [
    {
     "data": {
      "text/plain": [
       "array([1, 0, 1, 1, 1, 0, 1, 1, 0, 1, 1, 1, 1, 0, 0, 1, 1, 0, 0, 1, 1, 1,\n",
       "       0, 0, 1, 0, 0, 0, 1, 1, 1, 1, 0, 0, 1, 1, 0, 1, 1, 1, 0, 1, 1, 1,\n",
       "       0, 1, 1, 0, 1, 1, 1, 0, 0, 1, 0, 1, 0, 0, 1, 0, 1, 0, 0, 0, 1, 0,\n",
       "       0, 1, 0, 0, 1, 1, 0, 1, 0, 0, 1, 1, 1, 1, 1, 0, 1, 0, 0, 0],\n",
       "      dtype=int64)"
      ]
     },
     "execution_count": 95,
     "metadata": {},
     "output_type": "execute_result"
    }
   ],
   "source": [
    "pred_svc"
   ]
  },
  {
   "cell_type": "code",
   "execution_count": 96,
   "id": "97e67d5f",
   "metadata": {},
   "outputs": [
    {
     "data": {
      "text/plain": [
       "0.8488372093023255"
      ]
     },
     "execution_count": 96,
     "metadata": {},
     "output_type": "execute_result"
    }
   ],
   "source": [
    "accuracy_score(y_test,pred_svc)"
   ]
  },
  {
   "cell_type": "code",
   "execution_count": 97,
   "id": "ecfc84de",
   "metadata": {},
   "outputs": [
    {
     "data": {
      "text/plain": [
       "0.9166666666666666"
      ]
     },
     "execution_count": 97,
     "metadata": {},
     "output_type": "execute_result"
    }
   ],
   "source": [
    "precision_score(y_test,pred_svc)"
   ]
  },
  {
   "cell_type": "code",
   "execution_count": 98,
   "id": "257115d5",
   "metadata": {},
   "outputs": [
    {
     "data": {
      "text/plain": [
       "0.8301886792452831"
      ]
     },
     "execution_count": 98,
     "metadata": {},
     "output_type": "execute_result"
    }
   ],
   "source": [
    "recall_score(y_test,pred_svc)"
   ]
  },
  {
   "cell_type": "code",
   "execution_count": 99,
   "id": "404ea3a0",
   "metadata": {},
   "outputs": [
    {
     "data": {
      "text/plain": [
       "array([[29,  4],\n",
       "       [ 9, 44]], dtype=int64)"
      ]
     },
     "execution_count": 99,
     "metadata": {},
     "output_type": "execute_result"
    }
   ],
   "source": [
    "confusion_matrix(y_test,pred_svc)"
   ]
  },
  {
   "cell_type": "code",
   "execution_count": 100,
   "id": "04b2156f",
   "metadata": {},
   "outputs": [
    {
     "data": {
      "image/png": "[encoded data removed]",
      "text/plain": [
       "<Figure size 432x288 with 1 Axes>"
      ]
     },
     "metadata": {
      "needs_background": "light"
     },
     "output_type": "display_data"
    }
   ],
   "source": [
    "# Visualising Confusion Matrix\n",
    "cm = confusion_matrix(y_test, pred_svc)\n",
    "sns.heatmap(cm, cmap='RdBu', annot=True, fmt='d', cbar=False, yticklabels=['Not Heart disease', ' Heart disease'],\n",
    "            xticklabels=['Predicted Not Heart disease', 'Predicted Heart disease'])\n",
    "plt.show()"
   ]
  },
  {
   "cell_type": "markdown",
   "id": "a138bea3",
   "metadata": {},
   "source": [
    "# 6.Random Forest Classifier"
   ]
  },
  {
   "cell_type": "code",
   "execution_count": 101,
   "id": "329979ca",
   "metadata": {},
   "outputs": [],
   "source": [
    "from sklearn.ensemble import RandomForestClassifier"
   ]
  },
  {
   "cell_type": "code",
   "execution_count": 102,
   "id": "9fb1f9a4",
   "metadata": {},
   "outputs": [],
   "source": [
    "model_rf = RandomForestClassifier()\n",
    "model_rf.fit(x_train,y_train)\n",
    "pred_rf = model_rf.predict(x_test)"
   ]
  },
  {
   "cell_type": "code",
   "execution_count": 103,
   "id": "71ad7d6d",
   "metadata": {},
   "outputs": [
    {
     "data": {
      "text/plain": [
       "array([1, 0, 1, 1, 1, 0, 1, 1, 0, 1, 1, 1, 1, 0, 0, 1, 1, 0, 0, 1, 1, 1,\n",
       "       0, 0, 1, 0, 0, 0, 1, 1, 1, 1, 1, 0, 1, 1, 0, 1, 1, 1, 1, 1, 1, 1,\n",
       "       0, 1, 0, 0, 1, 1, 1, 0, 0, 0, 0, 1, 0, 0, 1, 0, 1, 0, 0, 0, 1, 0,\n",
       "       0, 1, 0, 0, 1, 0, 0, 0, 0, 0, 1, 1, 1, 1, 1, 0, 1, 0, 0, 0],\n",
       "      dtype=int64)"
      ]
     },
     "execution_count": 103,
     "metadata": {},
     "output_type": "execute_result"
    }
   ],
   "source": [
    "pred_rf"
   ]
  },
  {
   "cell_type": "code",
   "execution_count": 104,
   "id": "5e06f4ae",
   "metadata": {},
   "outputs": [
    {
     "data": {
      "text/plain": [
       "0.872093023255814"
      ]
     },
     "execution_count": 104,
     "metadata": {},
     "output_type": "execute_result"
    }
   ],
   "source": [
    "accuracy_score(y_test,pred_rf)"
   ]
  },
  {
   "cell_type": "code",
   "execution_count": 105,
   "id": "8186e0fd",
   "metadata": {},
   "outputs": [
    {
     "data": {
      "text/plain": [
       "0.9565217391304348"
      ]
     },
     "execution_count": 105,
     "metadata": {},
     "output_type": "execute_result"
    }
   ],
   "source": [
    "precision_score(y_test,pred_rf)"
   ]
  },
  {
   "cell_type": "code",
   "execution_count": 106,
   "id": "0f3d4fa1",
   "metadata": {},
   "outputs": [
    {
     "data": {
      "text/plain": [
       "0.8301886792452831"
      ]
     },
     "execution_count": 106,
     "metadata": {},
     "output_type": "execute_result"
    }
   ],
   "source": [
    "recall_score(y_test,pred_rf)"
   ]
  },
  {
   "cell_type": "code",
   "execution_count": 107,
   "id": "2525e52b",
   "metadata": {},
   "outputs": [
    {
     "data": {
      "text/plain": [
       "array([[31,  2],\n",
       "       [ 9, 44]], dtype=int64)"
      ]
     },
     "execution_count": 107,
     "metadata": {},
     "output_type": "execute_result"
    }
   ],
   "source": [
    "confusion_matrix(y_test,pred_rf)"
   ]
  },
  {
   "cell_type": "code",
   "execution_count": 108,
   "id": "c1b434d4",
   "metadata": {},
   "outputs": [
    {
     "data": {
      "image/png": "[encoded data removed]",
      "text/plain": [
       "<Figure size 432x288 with 1 Axes>"
      ]
     },
     "metadata": {
      "needs_background": "light"
     },
     "output_type": "display_data"
    }
   ],
   "source": [
    "# Visualising Confusion Matrix\n",
    "cm = confusion_matrix(y_test, pred_rf)\n",
    "sns.heatmap(cm, cmap='RdBu_r', annot=True, fmt='d', cbar=False,yticklabels=['Not Heart disease', ' Heart disease'],\n",
    "            xticklabels=['Predicted Not Heart disease', 'Predicted Heart disease'])\n",
    "plt.show()"
   ]
  },
  {
   "cell_type": "markdown",
   "id": "bcc357e4",
   "metadata": {},
   "source": [
    "# 7.Gradient Boosting"
   ]
  },
  {
   "cell_type": "code",
   "execution_count": 109,
   "id": "c0c2574c",
   "metadata": {},
   "outputs": [],
   "source": [
    "from sklearn.ensemble import GradientBoostingClassifier"
   ]
  },
  {
   "cell_type": "code",
   "execution_count": 110,
   "id": "13a627a8",
   "metadata": {},
   "outputs": [
    {
     "data": {
      "text/plain": [
       "array([1, 0, 1, 1, 1, 1, 1, 1, 0, 1, 1, 0, 1, 0, 0, 1, 1, 0, 0, 1, 1, 1,\n",
       "       0, 0, 0, 1, 0, 0, 1, 1, 1, 1, 1, 0, 1, 0, 0, 1, 1, 1, 0, 1, 1, 1,\n",
       "       0, 1, 1, 0, 1, 1, 1, 0, 0, 1, 0, 1, 0, 0, 1, 0, 1, 0, 0, 0, 1, 1,\n",
       "       0, 0, 0, 0, 1, 0, 0, 0, 0, 0, 1, 1, 1, 1, 1, 0, 1, 0, 1, 0],\n",
       "      dtype=int64)"
      ]
     },
     "execution_count": 110,
     "metadata": {},
     "output_type": "execute_result"
    }
   ],
   "source": [
    "model_gbc = GradientBoostingClassifier()\n",
    "model_gbc.fit(x_train,y_train)\n",
    "pred_gbc = model_gbc.predict(x_test)\n",
    "pred_gbc"
   ]
  },
  {
   "cell_type": "code",
   "execution_count": 111,
   "id": "71af7417",
   "metadata": {},
   "outputs": [
    {
     "data": {
      "text/plain": [
       "0.8372093023255814"
      ]
     },
     "execution_count": 111,
     "metadata": {},
     "output_type": "execute_result"
    }
   ],
   "source": [
    "accuracy_score(y_test,pred_gbc)"
   ]
  },
  {
   "cell_type": "code",
   "execution_count": 112,
   "id": "91769234",
   "metadata": {},
   "outputs": [
    {
     "data": {
      "text/plain": [
       "0.9148936170212766"
      ]
     },
     "execution_count": 112,
     "metadata": {},
     "output_type": "execute_result"
    }
   ],
   "source": [
    "precision_score(y_test,pred_gbc)"
   ]
  },
  {
   "cell_type": "code",
   "execution_count": 113,
   "id": "3901f90c",
   "metadata": {},
   "outputs": [
    {
     "data": {
      "text/plain": [
       "0.8113207547169812"
      ]
     },
     "execution_count": 113,
     "metadata": {},
     "output_type": "execute_result"
    }
   ],
   "source": [
    "recall_score(y_test,pred_gbc)"
   ]
  },
  {
   "cell_type": "code",
   "execution_count": 114,
   "id": "e875990c",
   "metadata": {},
   "outputs": [
    {
     "data": {
      "text/plain": [
       "array([[29,  4],\n",
       "       [10, 43]], dtype=int64)"
      ]
     },
     "execution_count": 114,
     "metadata": {},
     "output_type": "execute_result"
    }
   ],
   "source": [
    "confusion_matrix(y_test,pred_gbc)"
   ]
  },
  {
   "cell_type": "code",
   "execution_count": 115,
   "id": "db469a5e",
   "metadata": {},
   "outputs": [
    {
     "data": {
      "image/png": "[encoded data removed]",
      "text/plain": [
       "<Figure size 432x288 with 1 Axes>"
      ]
     },
     "metadata": {
      "needs_background": "light"
     },
     "output_type": "display_data"
    }
   ],
   "source": [
    "# Visualising Confusion Matrix\n",
    "cm = confusion_matrix(y_test, pred_gbc)\n",
    "sns.heatmap(cm, cmap='RdGy_r', annot=True, fmt='d', cbar=False, yticklabels=['Not Heart disease', ' Heart disease'],\n",
    "            xticklabels=['Predicted Not Heart disease', 'Predicted Heart disease'])\n",
    "plt.show()"
   ]
  },
  {
   "cell_type": "markdown",
   "id": "1db967fb",
   "metadata": {},
   "source": [
    "# Conclusion : "
   ]
  },
  {
   "cell_type": "markdown",
   "id": "5ffbffe7",
   "metadata": {},
   "source": [
    "##### Among all the algorithms Logistic Regression & Naive Bayes performs best with same accuracy_score = 0.9069767441860465 \n",
    "Precision_score = 0.9245283018867925\n",
    "\n",
    "Recall_score = 0.9245283018867925"
   ]
  },
  {
   "cell_type": "markdown",
   "id": "b7756349",
   "metadata": {},
   "source": [
    "#### so for further prediction we use Logistic Regression Classifier."
   ]
  },
  {
   "cell_type": "code",
   "execution_count": 117,
   "id": "80235edb",
   "metadata": {},
   "outputs": [
    {
     "name": "stdout",
     "output_type": "stream",
     "text": [
      "Input Age = 52\n",
      "Input sex = 1\n",
      "Input cp = 0\n",
      "Input trestbps = 125\n",
      "Input chol = 212\n",
      "Input fbs = 0\n",
      "Input restecg = 1\n",
      "Input thalach = 168\n",
      "Input exang = 0\n",
      "Input oldpeak = 1.0\n",
      "Input slope = 2\n",
      "Input ca = 2\n",
      "Input thal = 3\n",
      "Heart Disease of Person [0]\n",
      "\n",
      "\n",
      "     ...Congratulations...Congratulations...Congratulations...Congratulations...      😊You Don't have Heart Disease\n"
     ]
    }
   ],
   "source": [
    "#Entering new data to check whether person has heart disease or not\n",
    "\n",
    "Age = int(input('Input Age = '))\n",
    "Sex= int(input('Input sex = '))\n",
    "cp = int(input('Input cp = '))\n",
    "trestbps = int(input('Input trestbps = '))\n",
    "chol = int(input('Input chol = '))\n",
    "fbs= int(input('Input fbs = '))\n",
    "restecg= int(input('Input restecg = '))\n",
    "thalach = int(input('Input thalach = '))\n",
    "exang = int(input('Input exang = '))\n",
    "oldpeak = float(input('Input oldpeak = '))\n",
    "slope = int(input('Input slope = '))\n",
    "ca = int(input('Input ca = '))\n",
    "thal = int(input('Input thal = '))\n",
    "\n",
    "Result = [[Age,Sex,cp,trestbps,chol,fbs,restecg,thalach,exang,oldpeak,slope,ca,thal]]\n",
    "\n",
    "predict_data=model_l.predict(Result)\n",
    "print('Heart Disease of Person', predict_data)\n",
    "\n",
    "if predict_data==[0]:\n",
    "    print(\"\\n\\n     ...Congratulations...Congratulations...Congratulations...Congratulations...      😊You Don't have Heart Disease\")\n",
    "else:\n",
    "    print(\"\\n\\n     ...Alert...Alert...Alert...Alert...Alert...Alert...Alert...      😔You have Heart Disease,Please Take care.\")"
   ]
  },
  {
   "cell_type": "markdown",
   "id": "b04adcbf",
   "metadata": {},
   "source": [
    "# Thank You!!!"
   ]
  },
  {
   "cell_type": "code",
   "execution_count": null,
   "id": "e78270fc",
   "metadata": {},
   "outputs": [],
   "source": []
  }
 ],
 "metadata": {
  "kernelspec": {
   "display_name": "Python 3 (ipykernel)",
   "language": "python",
   "name": "python3"
  },
  "language_info": {
   "codemirror_mode": {
    "name": "ipython",
    "version": 3
   },
   "file_extension": ".py",
   "mimetype": "text/x-python",
   "name": "python",
   "nbconvert_exporter": "python",
   "pygments_lexer": "ipython3",
   "version": "3.9.12"
  }
 },
 "nbformat": 4,
 "nbformat_minor": 5
}
